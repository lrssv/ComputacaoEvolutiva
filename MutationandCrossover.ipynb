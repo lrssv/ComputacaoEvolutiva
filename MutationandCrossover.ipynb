{
  "nbformat": 4,
  "nbformat_minor": 0,
  "metadata": {
    "colab": {
      "name": "MutationandCrossover.ipynb",
      "provenance": [],
      "mount_file_id": "1MVPxas3P3bZK45t5YfAgFel5UH6TWZZi",
      "authorship_tag": "ABX9TyM59qLESScGkFUB4e2d4mmu",
      "include_colab_link": true
    },
    "kernelspec": {
      "name": "python3",
      "display_name": "Python 3"
    }
  },
  "cells": [
    {
      "cell_type": "markdown",
      "metadata": {
        "id": "view-in-github",
        "colab_type": "text"
      },
      "source": [
        "<a href=\"https://colab.research.google.com/github/lrssv/ComputacaoEvolutiva/blob/master/MutationandCrossover.ipynb\" target=\"_parent\"><img src=\"https://colab.research.google.com/assets/colab-badge.svg\" alt=\"Open In Colab\"/></a>"
      ]
    },
    {
      "cell_type": "markdown",
      "metadata": {
        "id": "IvIZnYXl9LtO",
        "colab_type": "text"
      },
      "source": [
        "# Model for classifying the victim's gender using an evolutionary algorithm to select features.\n",
        "\n",
        "* ## Mutation and Crossover"
      ]
    },
    {
      "cell_type": "markdown",
      "metadata": {
        "id": "q3jBMQP19Xh9",
        "colab_type": "text"
      },
      "source": [
        "## Imports"
      ]
    },
    {
      "cell_type": "code",
      "metadata": {
        "id": "nUjpLP6W4lbG",
        "colab_type": "code",
        "colab": {}
      },
      "source": [
        "import pickle\n",
        "import pandas as pd\n",
        "import numpy as np\n",
        "import random"
      ],
      "execution_count": 1,
      "outputs": []
    },
    {
      "cell_type": "code",
      "metadata": {
        "id": "n1yH-_ep4yue",
        "colab_type": "code",
        "colab": {}
      },
      "source": [
        "with open('/content/drive/My Drive/Data Files/initial_population.txt', \"rb\") as fp:   \n",
        "  population = pickle.load(fp)"
      ],
      "execution_count": 105,
      "outputs": []
    },
    {
      "cell_type": "markdown",
      "metadata": {
        "id": "y30TOMg1VJO1",
        "colab_type": "text"
      },
      "source": [
        "## Scripts"
      ]
    },
    {
      "cell_type": "code",
      "metadata": {
        "id": "66cnL-GW22-v",
        "colab_type": "code",
        "colab": {}
      },
      "source": [
        "def mutation(population):\n",
        "  children = []\n",
        "  prop_mutation = 0.1 #prob of mutation\n",
        "  rand = random.uniform(0,1) #random value to compare with prob_mutation\n",
        "\n",
        "\n",
        "  for p in population:\n",
        "    parent1 = random.choice(population) \n",
        "    parent2 = random.choice(population)\n",
        "    n = random.choice(range(1,len(parent1))) #gene that gona be mutaded\n",
        "    \n",
        "    if rand < prop_mutation:\n",
        "      #mutation\n",
        "      parent1[0] = random.choice(range(4)) #mute the model\n",
        "      \n",
        "      if parent1[n] == True:\n",
        "        parent1[n] = False \n",
        "        child = parent1\n",
        "      else:\n",
        "        parent1[n] = True \n",
        "        child = parent1\n",
        "      \n",
        "      children.append(child)\n",
        "    \n",
        "    else:\n",
        "      #crossover\n",
        "      chromosome_length = len(parent1) #length of chromosome\n",
        "      crossover_point = random.randint(1,chromosome_length-1) #point of crossover\n",
        "      child1 = parent1[1:crossover_point] + parent2[crossover_point:]\n",
        "      child2 = parent2[1:crossover_point]+parent1[crossover_point:]\n",
        "\n",
        "      child1.insert(0,parent2[0]) #model+child1\n",
        "      child2.insert(0,parent1[0]) #model+child2\n",
        "  \n",
        "      children.append([child1,child2])\n",
        "  \n",
        "  return children      "
      ],
      "execution_count": 111,
      "outputs": []
    },
    {
      "cell_type": "markdown",
      "metadata": {
        "id": "_5rFrtU3U4k9",
        "colab_type": "text"
      },
      "source": [
        "## Setups"
      ]
    },
    {
      "cell_type": "code",
      "metadata": {
        "id": "-yjEEbNiLiN_",
        "colab_type": "code",
        "colab": {}
      },
      "source": [
        "first_mutation = mutation(population)"
      ],
      "execution_count": 113,
      "outputs": []
    }
  ]
}