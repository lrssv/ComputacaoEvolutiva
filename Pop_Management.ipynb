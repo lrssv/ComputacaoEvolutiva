{
  "nbformat": 4,
  "nbformat_minor": 0,
  "metadata": {
    "colab": {
      "name": "Pop_Management.ipynb",
      "provenance": [],
      "mount_file_id": "19rYiH-zNvylPp7UcXlLq2SM32WVc3IXz",
      "authorship_tag": "ABX9TyMMEFEfbWS5mzMhwEm7gIzF",
      "include_colab_link": true
    },
    "kernelspec": {
      "name": "python3",
      "display_name": "Python 3"
    }
  },
  "cells": [
    {
      "cell_type": "markdown",
      "metadata": {
        "id": "view-in-github",
        "colab_type": "text"
      },
      "source": [
        "<a href=\"https://colab.research.google.com/github/lrssv/ComputacaoEvolutiva/blob/master/Pop_Management.ipynb\" target=\"_parent\"><img src=\"https://colab.research.google.com/assets/colab-badge.svg\" alt=\"Open In Colab\"/></a>"
      ]
    },
    {
      "cell_type": "markdown",
      "metadata": {
        "id": "dq5EKCYpD1i7",
        "colab_type": "text"
      },
      "source": [
        "# Model for classifying the Perpetrator's gender using an evolutionary algorithm to select features.\n",
        "\n",
        "## - Population Management\n",
        "\n",
        "This code has all steps for Fitness. Where:\n",
        "\n",
        "* Imports: the necessary libraries and the population; \n",
        "* Scripts: selection by tournament and uniform selection;\n",
        "* Setups: results."
      ]
    },
    {
      "cell_type": "markdown",
      "metadata": {
        "id": "9agYml6UJikf",
        "colab_type": "text"
      },
      "source": [
        "## Imports"
      ]
    },
    {
      "cell_type": "code",
      "metadata": {
        "id": "XGCt-S9i9WOH",
        "colab_type": "code",
        "colab": {}
      },
      "source": [
        "import pandas as pd\n",
        "import numpy as np\n",
        "import random\n",
        "from sklearn.tree import DecisionTreeClassifier\n",
        "from sklearn.ensemble import RandomForestClassifier\n",
        "from sklearn.model_selection import train_test_split\n",
        "from sklearn.metrics import accuracy_score\n",
        "from pandas import read_csv \n",
        "import pickle"
      ],
      "execution_count": 7,
      "outputs": []
    },
    {
      "cell_type": "code",
      "metadata": {
        "id": "GuPOXhrHD7gx",
        "colab_type": "code",
        "colab": {}
      },
      "source": [
        "with open('/content/drive/My Drive/Data Files/fitness.txt', \"rb\") as fit:   \n",
        "  fitness = pickle.load(fit)"
      ],
      "execution_count": 8,
      "outputs": []
    },
    {
      "cell_type": "markdown",
      "metadata": {
        "id": "8_KwdnWFJlBP",
        "colab_type": "text"
      },
      "source": [
        "## Scripts"
      ]
    },
    {
      "cell_type": "markdown",
      "metadata": {
        "id": "HG6SuDBTJpQ3",
        "colab_type": "text"
      },
      "source": [
        "### Selection by Tournament"
      ]
    },
    {
      "cell_type": "code",
      "metadata": {
        "id": "u1RmYdjxJNMo",
        "colab_type": "code",
        "colab": {}
      },
      "source": [
        "def tour(fitness):\n",
        "  indiv_current = 1\n",
        "  new_pop = []\n",
        "\n",
        "  while indiv_current <= 500:\n",
        "    indiv1 = random.choice(fitness) \n",
        "    indiv2 = random.choice(fitness)\n",
        "    \n",
        "    if indiv1[0] > indiv2[0]:\n",
        "      new_pop.append(indiv1)\n",
        "    else:\n",
        "      new_pop.append(indiv2)\n",
        "    \n",
        "    indiv_current += 1\n",
        "\n",
        "  return new_pop"
      ],
      "execution_count": null,
      "outputs": []
    },
    {
      "cell_type": "markdown",
      "metadata": {
        "id": "_ahTOO_w8fWc",
        "colab_type": "text"
      },
      "source": [
        "### Roulette selection"
      ]
    },
    {
      "cell_type": "code",
      "metadata": {
        "id": "FSiz5VIB8b2n",
        "colab_type": "code",
        "colab": {}
      },
      "source": [
        "def roulet(fitness):\n",
        "  indiv_current = 1\n",
        "  new_pop = []\n",
        "  ind = [-i[0] for i in fitness]\n",
        "  sum_t,sum_i = 0,0\n",
        "  \n",
        "  for i in ind:\n",
        "    sum_t += i.sum()\n",
        "\n",
        "  while indiv_current < 1000:\n",
        "    value = random.uniform(sum_t,0)\n",
        "    \n",
        "    for d in ind:\n",
        "      sum_i += d.sum()\n",
        "      if sum_i < value:\n",
        "        ind_index = ind.index(d)\n",
        "        best_ind = fitness[ind_index]\n",
        "        new_pop.append(best_ind)\n",
        "        indiv_current += 1\n",
        "    \n",
        "  return new_pop"
      ],
      "execution_count": 49,
      "outputs": []
    },
    {
      "cell_type": "markdown",
      "metadata": {
        "id": "-1KAiNeEJmnH",
        "colab_type": "text"
      },
      "source": [
        "## Setups"
      ]
    },
    {
      "cell_type": "code",
      "metadata": {
        "id": "Y4km7y56PUtx",
        "colab_type": "code",
        "colab": {}
      },
      "source": [
        "generation_t = tour(fitness)\n",
        "generation_t"
      ],
      "execution_count": null,
      "outputs": []
    },
    {
      "cell_type": "code",
      "metadata": {
        "id": "U53bki2aC8Wn",
        "colab_type": "code",
        "colab": {
          "base_uri": "https://localhost:8080/",
          "height": 340
        },
        "outputId": "30035ab0-900b-4aa0-a060-8c47add4afa5"
      },
      "source": [
        "generation_u = roulet(fitness)\n",
        "min(generation_u)"
      ],
      "execution_count": 50,
      "outputs": [
        {
          "output_type": "execute_result",
          "data": {
            "text/plain": [
              "[12.504478879207204,\n",
              " [3,\n",
              "  False,\n",
              "  False,\n",
              "  False,\n",
              "  False,\n",
              "  False,\n",
              "  False,\n",
              "  False,\n",
              "  False,\n",
              "  True,\n",
              "  True,\n",
              "  True,\n",
              "  False,\n",
              "  False,\n",
              "  True,\n",
              "  True,\n",
              "  False,\n",
              "  False]]"
            ]
          },
          "metadata": {
            "tags": []
          },
          "execution_count": 50
        }
      ]
    }
  ]
}