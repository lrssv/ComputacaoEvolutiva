{
  "nbformat": 4,
  "nbformat_minor": 0,
  "metadata": {
    "colab": {
      "name": "Model.ipynb",
      "provenance": [],
      "collapsed_sections": [],
      "mount_file_id": "1wXekeZpoLFqfY6GY8FtBHrW7q31j7R9j",
      "authorship_tag": "ABX9TyPEkIzBbufDP8IvmxnJm4wS",
      "include_colab_link": true
    },
    "kernelspec": {
      "name": "python3",
      "display_name": "Python 3"
    }
  },
  "cells": [
    {
      "cell_type": "markdown",
      "metadata": {
        "id": "view-in-github",
        "colab_type": "text"
      },
      "source": [
        "<a href=\"https://colab.research.google.com/github/lrssv/ComputacaoEvolutiva/blob/master/Model.ipynb\" target=\"_parent\"><img src=\"https://colab.research.google.com/assets/colab-badge.svg\" alt=\"Open In Colab\"/></a>"
      ]
    },
    {
      "cell_type": "markdown",
      "metadata": {
        "id": "u9_aFrseqLAO",
        "colab_type": "text"
      },
      "source": [
        "# Model for classifying the victim's gender using an evolutionary algorithm to select features.\n",
        "\n",
        "* ## Model"
      ]
    },
    {
      "cell_type": "code",
      "metadata": {
        "id": "3Z4h4AgmDQWn",
        "colab_type": "code",
        "colab": {}
      },
      "source": [
        "!pip install category_encoders"
      ],
      "execution_count": null,
      "outputs": []
    },
    {
      "cell_type": "markdown",
      "metadata": {
        "id": "vGPR71A2YYZD",
        "colab_type": "text"
      },
      "source": [
        "## Imports"
      ]
    },
    {
      "cell_type": "code",
      "metadata": {
        "id": "_ZrkJFflfJYc",
        "colab_type": "code",
        "colab": {
          "base_uri": "https://localhost:8080/",
          "height": 71
        },
        "outputId": "b2de573e-c650-475b-d799-83bc8a19a759"
      },
      "source": [
        "import pandas as pd\n",
        "import numpy as np\n",
        "import random\n",
        "import pickle\n",
        "from sklearn.tree import DecisionTreeClassifier\n",
        "from sklearn.ensemble import RandomForestClassifier\n",
        "from sklearn.model_selection import train_test_split\n",
        "from sklearn.metrics import accuracy_score\n",
        "from pandas import read_csv \n",
        "from category_encoders import TargetEncoder"
      ],
      "execution_count": 4,
      "outputs": [
        {
          "output_type": "stream",
          "text": [
            "/usr/local/lib/python3.6/dist-packages/statsmodels/tools/_testing.py:19: FutureWarning: pandas.util.testing is deprecated. Use the functions in the public API at pandas.testing instead.\n",
            "  import pandas.util.testing as tm\n"
          ],
          "name": "stderr"
        }
      ]
    },
    {
      "cell_type": "markdown",
      "metadata": {
        "id": "FyQk72-lYeC9",
        "colab_type": "text"
      },
      "source": [
        "## Scripts"
      ]
    },
    {
      "cell_type": "code",
      "metadata": {
        "id": "MnVlpVQigP1w",
        "colab_type": "code",
        "colab": {}
      },
      "source": [
        "def database(url):\n",
        "  df_encoded = pd.read_csv(url)\n",
        "  df_encoded = df_encoded.drop(columns=['Unnamed: 0'])\n",
        "\n",
        "  return df_encoded"
      ],
      "execution_count": 28,
      "outputs": []
    },
    {
      "cell_type": "code",
      "metadata": {
        "id": "ocDnjpthYs7Y",
        "colab_type": "code",
        "colab": {}
      },
      "source": [
        "def my_model(df_encoded,models):\n",
        "  result = []\n",
        "\n",
        "  #Separa a classe dos demais dados\n",
        "  x = df_encoded[df_encoded.columns.difference(['Victim Sex'])]\n",
        "  y = df_encoded[['Victim Sex']]\n",
        "\n",
        "  #Conjuntos de treino e teste\n",
        "  x_train, x_test, y_train, y_test = train_test_split(x, y, test_size=0.2, stratify=y, random_state=42)\n",
        "\n",
        "  x_train = np.array(x_train)\n",
        "  x_test = np.array(x_test)\n",
        "  y_train = np.ravel(y_train)\n",
        "  y_test = np.array(y_test)\n",
        "\n",
        "  #Modelos\n",
        "  for m in models:\n",
        "    victim_model = models[m]\n",
        "    victim_model.fit(x_train,y_train)\n",
        "    y_pred = victim_model.predict(x_test)\n",
        "    accuracy = accuracy_score(y_test,y_pred) #Acurácia do modelo\n",
        "    result.append([m,accuracy])\n",
        "\n",
        "  print(result)"
      ],
      "execution_count": 54,
      "outputs": []
    },
    {
      "cell_type": "markdown",
      "metadata": {
        "id": "BjBIHD-tY-WT",
        "colab_type": "text"
      },
      "source": [
        "## Instances"
      ]
    },
    {
      "cell_type": "code",
      "metadata": {
        "id": "dMkxszxAY983",
        "colab_type": "code",
        "colab": {}
      },
      "source": [
        "df_encoded = database('/content/drive/My Drive/Data Files/df_model_victim_encoded')"
      ],
      "execution_count": 31,
      "outputs": []
    },
    {
      "cell_type": "code",
      "metadata": {
        "id": "gPRJ_cwLZCBk",
        "colab_type": "code",
        "colab": {}
      },
      "source": [
        "models = {\"DecisionTreeClassifier(max_depth=10)\": DecisionTreeClassifier(max_depth=10),\n",
        "          \"DecisionTreeClassifier(max_depth=3)\": DecisionTreeClassifier(max_depth=3),\n",
        "          \"DecisionTreeClassifier(max_depth=14)\": DecisionTreeClassifier(max_depth=14),\n",
        "          \"RandomForestClassifier(max_depth=10)\":RandomForestClassifier(max_depth=10)}"
      ],
      "execution_count": 56,
      "outputs": []
    },
    {
      "cell_type": "code",
      "metadata": {
        "id": "FvzFUY3lcJbl",
        "colab_type": "code",
        "colab": {
          "base_uri": "https://localhost:8080/",
          "height": 54
        },
        "outputId": "e542ecf9-1d17-4317-86a0-6ae9bd1dd564"
      },
      "source": [
        "model = my_model(df_encoded,models)"
      ],
      "execution_count": 57,
      "outputs": [
        {
          "output_type": "stream",
          "text": [
            "[['DecisionTreeClassifier(max_depth=10)', 0.8647516269744931], ['DecisionTreeClassifier(max_depth=3)', 0.8591678348513208], ['DecisionTreeClassifier(max_depth=14)', 0.8636004103656483], ['RandomForestClassifier(max_depth=10)', 0.8633732996060803]]\n"
          ],
          "name": "stdout"
        }
      ]
    }
  ]
}