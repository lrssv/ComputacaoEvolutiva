{
  "nbformat": 4,
  "nbformat_minor": 0,
  "metadata": {
    "colab": {
      "name": "Initial_population.ipynb",
      "provenance": [],
      "collapsed_sections": [],
      "mount_file_id": "1nWIdOtfTP6LjjDATCKm1xlWVDBr6drvA",
      "authorship_tag": "ABX9TyPnq0pW2oIeTwX5F1eO5SVR",
      "include_colab_link": true
    },
    "kernelspec": {
      "name": "python3",
      "display_name": "Python 3"
    }
  },
  "cells": [
    {
      "cell_type": "markdown",
      "metadata": {
        "id": "view-in-github",
        "colab_type": "text"
      },
      "source": [
        "<a href=\"https://colab.research.google.com/github/lrssv/ComputacaoEvolutiva/blob/master/Initial_population.ipynb\" target=\"_parent\"><img src=\"https://colab.research.google.com/assets/colab-badge.svg\" alt=\"Open In Colab\"/></a>"
      ]
    },
    {
      "cell_type": "markdown",
      "metadata": {
        "id": "fucXjOc54GQl",
        "colab_type": "text"
      },
      "source": [
        "# Model for classifying the victim's gender using an evolutionary algorithm to select features.\n",
        "\n",
        "* ## Initial Population"
      ]
    },
    {
      "cell_type": "markdown",
      "metadata": {
        "id": "McZe8nahtGJC",
        "colab_type": "text"
      },
      "source": [
        "**ENTRADA:** População Inicial (aleatória)\n",
        "\n",
        "*   Função de Fitness\n",
        "*   Critério de Parada\n",
        "\n",
        "**REPITA (até que o critério de parada seja atendido):**\n",
        "\n",
        "*  PASSO 1: Aplicar a função de fitness a cada indivíduo\n",
        "\n",
        "*  PASSO 2: Selecionar os x melhores indivíduos\n",
        "\n",
        "*  PASSO 3: Reprodução\n",
        "  * Aplicar o crossover a um par (com prob = p)\n",
        "  * Aplicar mutação (com prob = p’)\n",
        "\n",
        "* PASSO 4: Formar uma nova população com os filhos gerados\n",
        "\n",
        "**SAÍDA:** Melhor indivíduo presente na geração final"
      ]
    },
    {
      "cell_type": "markdown",
      "metadata": {
        "id": "he1hy27f4Ho9",
        "colab_type": "text"
      },
      "source": [
        "##Imports"
      ]
    },
    {
      "cell_type": "code",
      "metadata": {
        "id": "s8pWR8NNx0P_",
        "colab_type": "code",
        "colab": {}
      },
      "source": [
        "!pip install category_encoders"
      ],
      "execution_count": null,
      "outputs": []
    },
    {
      "cell_type": "code",
      "metadata": {
        "id": "g1Xh4RN-x9UK",
        "colab_type": "code",
        "colab": {}
      },
      "source": [
        "import pandas as pd\n",
        "import numpy as np\n",
        "import random\n",
        "import pickle\n",
        "from sklearn.tree import DecisionTreeClassifier\n",
        "from sklearn.ensemble import RandomForestClassifier\n",
        "from sklearn.model_selection import train_test_split\n",
        "from sklearn.metrics import accuracy_score\n",
        "from pandas import read_csv \n",
        "from category_encoders import TargetEncoder"
      ],
      "execution_count": 28,
      "outputs": []
    },
    {
      "cell_type": "markdown",
      "metadata": {
        "id": "2i-vsE4K4Ntd",
        "colab_type": "text"
      },
      "source": [
        "## Scripts"
      ]
    },
    {
      "cell_type": "code",
      "metadata": {
        "id": "zmD-sU6Kx-cZ",
        "colab_type": "code",
        "colab": {}
      },
      "source": [
        "def database(url):\n",
        "  df_encoded = pd.read_csv(url)\n",
        "  df_encoded = df_encoded.drop(columns=['Unnamed: 0'])\n",
        "\n",
        "  return df_encoded"
      ],
      "execution_count": 2,
      "outputs": []
    },
    {
      "cell_type": "code",
      "metadata": {
        "id": "5SB578lmr7z-",
        "colab_type": "code",
        "colab": {}
      },
      "source": [
        "def population(ind_size,pop_size,models):\n",
        "  ind = []\n",
        "  pop = []\n",
        "\n",
        "  for p in range(pop_size):\n",
        "    ind = [random.choice([True,False]) for i in range(ind_size)]\n",
        "    ind[0] = random.choice(range(0,len(models)+1))\n",
        "    pop.append(ind)\n",
        "    ind = []\n",
        "\n",
        "  return pop"
      ],
      "execution_count": 3,
      "outputs": []
    },
    {
      "cell_type": "code",
      "metadata": {
        "id": "fNCauplOsC9y",
        "colab_type": "code",
        "colab": {}
      },
      "source": [
        "#Modelo \n",
        "def model(population,df,models):\n",
        "  result = []\n",
        "\n",
        "  x = df[df.columns.difference(['Victim Sex'])]\n",
        "  y = df[['Victim Sex']]\n",
        "  \n",
        "  x_train, x_test, y_train, y_test = np.array(train_test_split(x, y, test_size=0.2, stratify=y, random_state=42))\n",
        "\n",
        "  x_train = np.array(x_train)\n",
        "  x_test = np.array(x_test)\n",
        "  y_train = np.ravel(y_train)\n",
        "  y_test = np.array(y_test)\n",
        "\n",
        "  for p in population:\n",
        "    model = models[p[1]]\n",
        "    ind = [i==1 for i in p[1:]] \n",
        "    model.fit(x_train[:,ind],y_train)\n",
        "    y_pred = model.predict(x_test[:,ind])\n",
        "    accuracy = accuracy_score(y_test,y_pred)\n",
        "\n",
        "    result.append([p,accuracy])\n",
        "\n",
        "  return result"
      ],
      "execution_count": 12,
      "outputs": []
    },
    {
      "cell_type": "markdown",
      "metadata": {
        "id": "yucaNiSG1p_H",
        "colab_type": "text"
      },
      "source": [
        "## Instances"
      ]
    },
    {
      "cell_type": "code",
      "metadata": {
        "id": "AJNvjkl01nA_",
        "colab_type": "code",
        "colab": {}
      },
      "source": [
        "df_encoded = database('/content/drive/My Drive/Data Files/df_model_victim_encoded')"
      ],
      "execution_count": 5,
      "outputs": []
    },
    {
      "cell_type": "code",
      "metadata": {
        "id": "LXYz4i2psE55",
        "colab_type": "code",
        "colab": {}
      },
      "source": [
        "models = [DecisionTreeClassifier(max_depth=10),DecisionTreeClassifier(max_depth=3),DecisionTreeClassifier(max_depth=14),RandomForestClassifier(max_depth=10)]"
      ],
      "execution_count": 6,
      "outputs": []
    },
    {
      "cell_type": "code",
      "metadata": {
        "id": "voR2F6easGVh",
        "colab_type": "code",
        "colab": {}
      },
      "source": [
        "initial_population = population(18,100,models)"
      ],
      "execution_count": 13,
      "outputs": []
    },
    {
      "cell_type": "code",
      "metadata": {
        "id": "thiG_RN7sHrR",
        "colab_type": "code",
        "colab": {}
      },
      "source": [
        "initial_model = model(initial_population,df_encoded,models)"
      ],
      "execution_count": 21,
      "outputs": []
    },
    {
      "cell_type": "code",
      "metadata": {
        "id": "GNJyLmti1OD0",
        "colab_type": "code",
        "colab": {}
      },
      "source": [
        "#export \n",
        "with open(\"/content/drive/My Drive/Data Files/initial_model.txt\", \"wb\") as fp: \n",
        "  pickle.dump(initial_model, fp)"
      ],
      "execution_count": 29,
      "outputs": []
    }
  ]
}