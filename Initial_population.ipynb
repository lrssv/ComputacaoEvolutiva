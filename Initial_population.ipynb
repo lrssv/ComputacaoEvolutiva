{
  "nbformat": 4,
  "nbformat_minor": 0,
  "metadata": {
    "colab": {
      "name": "Initial_population.ipynb",
      "provenance": [],
      "collapsed_sections": [],
      "mount_file_id": "1nWIdOtfTP6LjjDATCKm1xlWVDBr6drvA",
      "authorship_tag": "ABX9TyNELmPco3AfaYMtMLzb9Wax",
      "include_colab_link": true
    },
    "kernelspec": {
      "name": "python3",
      "display_name": "Python 3"
    }
  },
  "cells": [
    {
      "cell_type": "markdown",
      "metadata": {
        "id": "view-in-github",
        "colab_type": "text"
      },
      "source": [
        "<a href=\"https://colab.research.google.com/github/lrssv/ComputacaoEvolutiva/blob/Part-2/Initial_population.ipynb\" target=\"_parent\"><img src=\"https://colab.research.google.com/assets/colab-badge.svg\" alt=\"Open In Colab\"/></a>"
      ]
    },
    {
      "cell_type": "markdown",
      "metadata": {
        "id": "fucXjOc54GQl"
      },
      "source": [
        "# Model for classifying the victim's gender using an evolutionary algorithm to select features.\n",
        "\n",
        "## - Initial Population\n",
        "\n",
        "This code has all steps for the initial population. Where:\n",
        "\n",
        "* Imports: the necessary libraries\n",
        "* Scripts: imports the encoded dataset and create the initial population with 100 individuals, where each individual has 18 features, the first is the model and all others correspond for the features for the dataset\n",
        "* Setups: results and export."
      ]
    },
    {
      "cell_type": "markdown",
      "metadata": {
        "id": "he1hy27f4Ho9"
      },
      "source": [
        "##Imports"
      ]
    },
    {
      "cell_type": "code",
      "metadata": {
        "id": "g1Xh4RN-x9UK"
      },
      "source": [
        "import pandas as pd\n",
        "import numpy as np\n",
        "import random\n",
        "import pickle\n",
        "from sklearn.tree import DecisionTreeClassifier\n",
        "from sklearn.ensemble import RandomForestClassifier\n",
        "from pandas import read_csv "
      ],
      "execution_count": 44,
      "outputs": []
    },
    {
      "cell_type": "markdown",
      "metadata": {
        "id": "2i-vsE4K4Ntd"
      },
      "source": [
        "## Scripts"
      ]
    },
    {
      "cell_type": "code",
      "metadata": {
        "id": "zmD-sU6Kx-cZ"
      },
      "source": [
        "def database(url):\n",
        "  df_encoded = pd.read_csv(url)\n",
        "  df_encoded = df_encoded.drop(columns=['Unnamed: 0'])\n",
        "\n",
        "  return df_encoded"
      ],
      "execution_count": 19,
      "outputs": []
    },
    {
      "cell_type": "code",
      "metadata": {
        "id": "5SB578lmr7z-"
      },
      "source": [
        "def population(ind_size,pop_size,models,ms,pc):\n",
        "  ind = []\n",
        "  pop = []\n",
        "  probs = []\n",
        "\n",
        "  for p in range(pop_size):\n",
        "    probs.append(ms)\n",
        "    probs.append(pc)\n",
        "\n",
        "    ind = [random.choice([True,False]) for i in range(ind_size)] #features\n",
        "    ind[0] = random.choice(range(0,len(models))) #model\n",
        "    ind[1] = probs #probabilities\n",
        "    pop.append(ind)\n",
        "    ind = []\n",
        "    probs = []\n",
        "\n",
        "  print(\"-------------------------- Initial Population --------------------------\")\n",
        "  print(pd.DataFrame(pop, columns=['model','probabilities', 'feature 1', 'feature 2', 'feature 3','feature 4',\n",
        "                                   'feature 5', 'feature 6', 'feature 7','feature 8', 'feature 9',\n",
        "                                   'feature 10', 'feature 11','feature 12', 'feature 13', 'feature 14',\n",
        "                                   'feature 15','feature 16', 'feature 17']))\n",
        "  return pop"
      ],
      "execution_count": 47,
      "outputs": []
    },
    {
      "cell_type": "markdown",
      "metadata": {
        "id": "yucaNiSG1p_H"
      },
      "source": [
        "## Instances"
      ]
    },
    {
      "cell_type": "code",
      "metadata": {
        "id": "AJNvjkl01nA_"
      },
      "source": [
        "df_encoded = database('/content/drive/My Drive/Data Files/df_model_per_encoded')"
      ],
      "execution_count": 21,
      "outputs": []
    },
    {
      "cell_type": "code",
      "metadata": {
        "id": "LXYz4i2psE55"
      },
      "source": [
        "models = [DecisionTreeClassifier(max_depth=10),DecisionTreeClassifier(max_depth=3),DecisionTreeClassifier(max_depth=14),\n",
        "          RandomForestClassifier(max_depth=10),RandomForestClassifier(max_depth=14)]"
      ],
      "execution_count": 22,
      "outputs": []
    },
    {
      "cell_type": "code",
      "metadata": {
        "id": "yCNe_2J6KCwW"
      },
      "source": [
        "#Default\n",
        "individual_size = 19\n",
        "population_size = 100\n",
        "mutation_strength = 1/(individual_size-2) \n",
        "prob_crossover = 0.8"
      ],
      "execution_count": 37,
      "outputs": []
    },
    {
      "cell_type": "code",
      "metadata": {
        "id": "voR2F6easGVh",
        "outputId": "11fc6e78-1825-4794-89a6-21b93376aba5",
        "colab": {
          "base_uri": "https://localhost:8080/",
          "height": 272
        }
      },
      "source": [
        "initial_population = population(individual_size,population_size,models,mutation_strength,prob_crossover)"
      ],
      "execution_count": 48,
      "outputs": [
        {
          "output_type": "stream",
          "text": [
            "-------------------------- Initial Population --------------------------\n",
            "    model                probabilities  ...  feature 16  feature 17\n",
            "0       2  [0.058823529411764705, 0.8]  ...       False        True\n",
            "1       0  [0.058823529411764705, 0.8]  ...        True       False\n",
            "2       2  [0.058823529411764705, 0.8]  ...        True       False\n",
            "3       4  [0.058823529411764705, 0.8]  ...       False       False\n",
            "4       3  [0.058823529411764705, 0.8]  ...       False        True\n",
            "..    ...                          ...  ...         ...         ...\n",
            "95      0  [0.058823529411764705, 0.8]  ...       False       False\n",
            "96      1  [0.058823529411764705, 0.8]  ...       False       False\n",
            "97      1  [0.058823529411764705, 0.8]  ...        True        True\n",
            "98      2  [0.058823529411764705, 0.8]  ...        True       False\n",
            "99      3  [0.058823529411764705, 0.8]  ...        True       False\n",
            "\n",
            "[100 rows x 19 columns]\n"
          ],
          "name": "stdout"
        }
      ]
    },
    {
      "cell_type": "code",
      "metadata": {
        "id": "GNJyLmti1OD0"
      },
      "source": [
        "#export population\n",
        "with open(\"/content/drive/My Drive/Data Files/initial_population.txt\", \"wb\") as fp: \n",
        "  pickle.dump(initial_population, fp)"
      ],
      "execution_count": 49,
      "outputs": []
    }
  ]
}