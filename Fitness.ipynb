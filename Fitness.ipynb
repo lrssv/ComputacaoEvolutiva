{
  "nbformat": 4,
  "nbformat_minor": 0,
  "metadata": {
    "colab": {
      "name": "Fitness.ipynb",
      "provenance": [],
      "mount_file_id": "1jNpUNBddaG91eyWJCYr6b6OrDXxrxBFo",
      "authorship_tag": "ABX9TyPv89iaxsxU5QtY0MUwjqv7",
      "include_colab_link": true
    },
    "kernelspec": {
      "name": "python3",
      "display_name": "Python 3"
    }
  },
  "cells": [
    {
      "cell_type": "markdown",
      "metadata": {
        "id": "view-in-github",
        "colab_type": "text"
      },
      "source": [
        "<a href=\"https://colab.research.google.com/github/lrssv/ComputacaoEvolutiva/blob/master/Fitness.ipynb\" target=\"_parent\"><img src=\"https://colab.research.google.com/assets/colab-badge.svg\" alt=\"Open In Colab\"/></a>"
      ]
    },
    {
      "cell_type": "markdown",
      "metadata": {
        "id": "182ucXcBejxo",
        "colab_type": "text"
      },
      "source": [
        "# Model for classifying the Perpetrator's gender using an evolutionary algorithm to select features.\n",
        "\n",
        "## - Fitness\n",
        "\n",
        "This code has all steps for Fitness. Where:\n",
        "\n",
        "* Imports: the necessary libraries and the population; \n",
        "* Scripts: steps for do mutation or crossover;\n",
        "* Setups: results."
      ]
    },
    {
      "cell_type": "code",
      "metadata": {
        "id": "N05_t68Mem26",
        "colab_type": "code",
        "colab": {}
      },
      "source": [
        "!pip install category_encoders"
      ],
      "execution_count": null,
      "outputs": []
    },
    {
      "cell_type": "markdown",
      "metadata": {
        "id": "cRjRTOD6eq6C",
        "colab_type": "text"
      },
      "source": [
        "## Imports"
      ]
    },
    {
      "cell_type": "code",
      "metadata": {
        "id": "KF1gZx3qeo44",
        "colab_type": "code",
        "colab": {}
      },
      "source": [
        "import pandas as pd\n",
        "import numpy as np\n",
        "import random\n",
        "import pickle\n",
        "from sklearn.tree import DecisionTreeClassifier\n",
        "from sklearn.ensemble import RandomForestClassifier\n",
        "from sklearn.model_selection import train_test_split\n",
        "from sklearn.metrics import accuracy_score\n",
        "from pandas import read_csv \n",
        "from category_encoders import TargetEncoder\n",
        "from sklearn.metrics import mean_squared_error\n",
        "from math import sqrt"
      ],
      "execution_count": null,
      "outputs": []
    },
    {
      "cell_type": "markdown",
      "metadata": {
        "id": "X9A-PW_cfE_q",
        "colab_type": "text"
      },
      "source": [
        "## Scripts"
      ]
    },
    {
      "cell_type": "code",
      "metadata": {
        "id": "rPGnl-puG0iw",
        "colab_type": "code",
        "colab": {}
      },
      "source": [
        "def database(url):\n",
        "  df_encoded = pd.read_csv(url)\n",
        "  df_encoded = df_encoded.drop(columns=['Unnamed: 0'])\n",
        "\n",
        "  return df_encoded"
      ],
      "execution_count": 3,
      "outputs": []
    },
    {
      "cell_type": "code",
      "metadata": {
        "id": "klv_qUyv172I",
        "colab_type": "code",
        "colab": {}
      },
      "source": [
        "def fitness(population,df,models):\n",
        "  result = []\n",
        "\n",
        "  x = df[df.columns.difference(['Victim Sex'])]\n",
        "  y = df[['Victim Sex']]\n",
        "  \n",
        "  x_train, x_test, y_train, y_test = np.array(train_test_split(x, y, test_size=0.2, stratify=y, random_state=42))\n",
        "\n",
        "  x_train = np.array(x_train)\n",
        "  x_test = np.array(x_test)\n",
        "  y_train = np.ravel(y_train)\n",
        "  y_test = np.array(y_test)\n",
        "\n",
        "  for p in population:\n",
        "    model = models[p[1]]\n",
        "    ind = [i==1 for i in p[1:]] \n",
        "    model.fit(x_train[:,ind],y_train)\n",
        "    y_pred = model.predict(x_test[:,ind])\n",
        "    rmse = sqrt(mean_squared_error(y_test, y_pred))\n",
        "    fit_value = 20*rmse + np.sum(p[1:])\n",
        "\n",
        "    result.append([fit_value,p])\n",
        "  return result"
      ],
      "execution_count": 4,
      "outputs": []
    },
    {
      "cell_type": "markdown",
      "metadata": {
        "id": "l6190AatfIDQ",
        "colab_type": "text"
      },
      "source": [
        "## Setups"
      ]
    },
    {
      "cell_type": "code",
      "metadata": {
        "id": "1ExCfx66GjTF",
        "colab_type": "code",
        "colab": {}
      },
      "source": [
        "with open('/content/drive/My Drive/Data Files/initial_population.txt', \"rb\") as fp:   \n",
        "  population = pickle.load(fp)"
      ],
      "execution_count": 5,
      "outputs": []
    },
    {
      "cell_type": "code",
      "metadata": {
        "id": "pf8T5JnU2AIg",
        "colab_type": "code",
        "colab": {}
      },
      "source": [
        "models = [DecisionTreeClassifier(max_depth=14),\n",
        "          DecisionTreeClassifier(max_depth=10),\n",
        "          DecisionTreeClassifier(max_depth=3),\n",
        "          RandomForestClassifier(max_depth=14),\n",
        "          RandomForestClassifier(max_depth=10)]"
      ],
      "execution_count": 6,
      "outputs": []
    },
    {
      "cell_type": "code",
      "metadata": {
        "id": "-pmWOUnJG83L",
        "colab_type": "code",
        "colab": {}
      },
      "source": [
        "df_encoded = database('/content/drive/My Drive/Data Files/df_model_per_encoded')"
      ],
      "execution_count": 7,
      "outputs": []
    },
    {
      "cell_type": "code",
      "metadata": {
        "id": "imadU_JR2GcJ",
        "colab_type": "code",
        "colab": {}
      },
      "source": [
        "model_fitness = fitness(population,df_encoded,models)"
      ],
      "execution_count": 8,
      "outputs": []
    },
    {
      "cell_type": "code",
      "metadata": {
        "id": "Y86_gzatsti8",
        "colab_type": "code",
        "colab": {
          "base_uri": "https://localhost:8080/",
          "height": 419
        },
        "outputId": "1da181da-b051-43ad-b659-2bdd32da27a0"
      },
      "source": [
        "pd.DataFrame(model_fitness, columns=['Fitness','Individuo'])"
      ],
      "execution_count": 12,
      "outputs": [
        {
          "output_type": "execute_result",
          "data": {
            "text/html": [
              "<div>\n",
              "<style scoped>\n",
              "    .dataframe tbody tr th:only-of-type {\n",
              "        vertical-align: middle;\n",
              "    }\n",
              "\n",
              "    .dataframe tbody tr th {\n",
              "        vertical-align: top;\n",
              "    }\n",
              "\n",
              "    .dataframe thead th {\n",
              "        text-align: right;\n",
              "    }\n",
              "</style>\n",
              "<table border=\"1\" class=\"dataframe\">\n",
              "  <thead>\n",
              "    <tr style=\"text-align: right;\">\n",
              "      <th></th>\n",
              "      <th>Fitness</th>\n",
              "      <th>Individuo</th>\n",
              "    </tr>\n",
              "  </thead>\n",
              "  <tbody>\n",
              "    <tr>\n",
              "      <th>0</th>\n",
              "      <td>16.423973</td>\n",
              "      <td>[2, True, True, True, False, False, True, Fals...</td>\n",
              "    </tr>\n",
              "    <tr>\n",
              "      <th>1</th>\n",
              "      <td>18.528651</td>\n",
              "      <td>[0, True, True, True, False, True, False, True...</td>\n",
              "    </tr>\n",
              "    <tr>\n",
              "      <th>2</th>\n",
              "      <td>19.457983</td>\n",
              "      <td>[2, True, True, False, True, True, False, True...</td>\n",
              "    </tr>\n",
              "    <tr>\n",
              "      <th>3</th>\n",
              "      <td>14.518241</td>\n",
              "      <td>[4, False, True, True, True, False, False, Fal...</td>\n",
              "    </tr>\n",
              "    <tr>\n",
              "      <th>4</th>\n",
              "      <td>14.529899</td>\n",
              "      <td>[5, False, False, True, True, False, True, Tru...</td>\n",
              "    </tr>\n",
              "    <tr>\n",
              "      <th>...</th>\n",
              "      <td>...</td>\n",
              "      <td>...</td>\n",
              "    </tr>\n",
              "    <tr>\n",
              "      <th>95</th>\n",
              "      <td>20.516920</td>\n",
              "      <td>[4, True, True, True, True, True, True, True, ...</td>\n",
              "    </tr>\n",
              "    <tr>\n",
              "      <th>96</th>\n",
              "      <td>18.518658</td>\n",
              "      <td>[5, False, True, True, True, False, True, Fals...</td>\n",
              "    </tr>\n",
              "    <tr>\n",
              "      <th>97</th>\n",
              "      <td>16.424638</td>\n",
              "      <td>[0, False, False, True, False, False, True, Fa...</td>\n",
              "    </tr>\n",
              "    <tr>\n",
              "      <th>98</th>\n",
              "      <td>17.546106</td>\n",
              "      <td>[5, False, False, False, False, True, True, Fa...</td>\n",
              "    </tr>\n",
              "    <tr>\n",
              "      <th>99</th>\n",
              "      <td>17.382665</td>\n",
              "      <td>[0, True, False, True, True, False, True, Fals...</td>\n",
              "    </tr>\n",
              "  </tbody>\n",
              "</table>\n",
              "<p>100 rows × 2 columns</p>\n",
              "</div>"
            ],
            "text/plain": [
              "      Fitness                                          Individuo\n",
              "0   16.423973  [2, True, True, True, False, False, True, Fals...\n",
              "1   18.528651  [0, True, True, True, False, True, False, True...\n",
              "2   19.457983  [2, True, True, False, True, True, False, True...\n",
              "3   14.518241  [4, False, True, True, True, False, False, Fal...\n",
              "4   14.529899  [5, False, False, True, True, False, True, Tru...\n",
              "..        ...                                                ...\n",
              "95  20.516920  [4, True, True, True, True, True, True, True, ...\n",
              "96  18.518658  [5, False, True, True, True, False, True, Fals...\n",
              "97  16.424638  [0, False, False, True, False, False, True, Fa...\n",
              "98  17.546106  [5, False, False, False, False, True, True, Fa...\n",
              "99  17.382665  [0, True, False, True, True, False, True, Fals...\n",
              "\n",
              "[100 rows x 2 columns]"
            ]
          },
          "metadata": {
            "tags": []
          },
          "execution_count": 12
        }
      ]
    },
    {
      "cell_type": "code",
      "metadata": {
        "id": "te2vbUVdHcHE",
        "colab_type": "code",
        "colab": {}
      },
      "source": [
        "#export \n",
        "with open(\"/content/drive/My Drive/Data Files/fitness.txt\", \"wb\") as fit: \n",
        "  pickle.dump(model_fitness, fit)"
      ],
      "execution_count": 23,
      "outputs": []
    }
  ]
}