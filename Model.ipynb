{
  "nbformat": 4,
  "nbformat_minor": 0,
  "metadata": {
    "colab": {
      "name": "Model.ipynb",
      "provenance": [],
      "collapsed_sections": [],
      "mount_file_id": "1wXekeZpoLFqfY6GY8FtBHrW7q31j7R9j",
      "authorship_tag": "ABX9TyPA2XzJn/AnzqV8lf4wP1O2",
      "include_colab_link": true
    },
    "kernelspec": {
      "name": "python3",
      "display_name": "Python 3"
    }
  },
  "cells": [
    {
      "cell_type": "markdown",
      "metadata": {
        "id": "view-in-github",
        "colab_type": "text"
      },
      "source": [
        "<a href=\"https://colab.research.google.com/github/lrssv/ComputacaoEvolutiva/blob/master/Model.ipynb\" target=\"_parent\"><img src=\"https://colab.research.google.com/assets/colab-badge.svg\" alt=\"Open In Colab\"/></a>"
      ]
    },
    {
      "cell_type": "markdown",
      "metadata": {
        "id": "u9_aFrseqLAO",
        "colab_type": "text"
      },
      "source": [
        "# Model for classifying the Perpetrator's gender using an evolutionary algorithm to select features.\n",
        "\n",
        "## - Model\n",
        "\n",
        "This code has all steps for the Model. Where:\n",
        "\n",
        "* Imports: the necessary libraries\n",
        "* Scripts: imports the encoded dataset, separates data in train and test, run all models and return the accuracy\n",
        "* Setups: results."
      ]
    },
    {
      "cell_type": "code",
      "metadata": {
        "id": "3Z4h4AgmDQWn",
        "colab_type": "code",
        "colab": {}
      },
      "source": [
        "!pip install category_encoders"
      ],
      "execution_count": null,
      "outputs": []
    },
    {
      "cell_type": "markdown",
      "metadata": {
        "id": "vGPR71A2YYZD",
        "colab_type": "text"
      },
      "source": [
        "## Imports"
      ]
    },
    {
      "cell_type": "code",
      "metadata": {
        "id": "_ZrkJFflfJYc",
        "colab_type": "code",
        "colab": {}
      },
      "source": [
        "import pandas as pd\n",
        "import numpy as np\n",
        "import random\n",
        "import pickle\n",
        "from sklearn.tree import DecisionTreeClassifier\n",
        "from sklearn.ensemble import RandomForestClassifier\n",
        "from sklearn.model_selection import train_test_split\n",
        "from sklearn.metrics import accuracy_score\n",
        "from pandas import read_csv \n",
        "from category_encoders import TargetEncoder"
      ],
      "execution_count": null,
      "outputs": []
    },
    {
      "cell_type": "markdown",
      "metadata": {
        "id": "FyQk72-lYeC9",
        "colab_type": "text"
      },
      "source": [
        "## Scripts"
      ]
    },
    {
      "cell_type": "code",
      "metadata": {
        "id": "MnVlpVQigP1w",
        "colab_type": "code",
        "colab": {}
      },
      "source": [
        "def database(url):\n",
        "  df_encoded = pd.read_csv(url)\n",
        "  df_encoded = df_encoded.drop(columns=['Unnamed: 0'])\n",
        "\n",
        "  return df_encoded"
      ],
      "execution_count": 3,
      "outputs": []
    },
    {
      "cell_type": "code",
      "metadata": {
        "id": "ocDnjpthYs7Y",
        "colab_type": "code",
        "colab": {}
      },
      "source": [
        "def my_model(df_encoded,models):\n",
        "  result = []\n",
        "\n",
        "  #Separa a classe dos demais dados\n",
        "  x = df_encoded[df_encoded.columns.difference(['Perpetrator Sex'])]\n",
        "  y = df_encoded[['Perpetrator Sex']]\n",
        "\n",
        "  #Conjuntos de treino e teste\n",
        "  x_train, x_test, y_train, y_test = train_test_split(x, y, test_size=0.2, stratify=y, random_state=42)\n",
        "\n",
        "  x_train = np.array(x_train)\n",
        "  x_test = np.array(x_test)\n",
        "  y_train = np.ravel(y_train)\n",
        "  y_test = np.array(y_test)\n",
        "\n",
        "  #Modelos\n",
        "  for m in models:\n",
        "    victim_model = models[m]\n",
        "    victim_model.fit(x_train,y_train)\n",
        "    y_pred = victim_model.predict(x_test)\n",
        "    accuracy = accuracy_score(y_test,y_pred) #Acurácia do modelo\n",
        "    result.append([m,accuracy])\n",
        "\n",
        "  return result"
      ],
      "execution_count": 4,
      "outputs": []
    },
    {
      "cell_type": "markdown",
      "metadata": {
        "id": "BjBIHD-tY-WT",
        "colab_type": "text"
      },
      "source": [
        "## Instances"
      ]
    },
    {
      "cell_type": "code",
      "metadata": {
        "id": "dMkxszxAY983",
        "colab_type": "code",
        "colab": {}
      },
      "source": [
        "df_encoded = database('/content/drive/My Drive/Data Files/df_model_per_encoded')"
      ],
      "execution_count": 5,
      "outputs": []
    },
    {
      "cell_type": "code",
      "metadata": {
        "id": "gPRJ_cwLZCBk",
        "colab_type": "code",
        "colab": {}
      },
      "source": [
        "models = {\"DecisionTreeClassifier(max_depth=14)\": DecisionTreeClassifier(max_depth=14),\n",
        "          \"DecisionTreeClassifier(max_depth=10)\": DecisionTreeClassifier(max_depth=10),\n",
        "          \"DecisionTreeClassifier(max_depth=3)\": DecisionTreeClassifier(max_depth=3),\n",
        "          \"RandomForestClassifier(max_depth=14)\":RandomForestClassifier(max_depth=14),\n",
        "          \"RandomForestClassifier(max_depth=10)\":RandomForestClassifier(max_depth=10)}"
      ],
      "execution_count": 13,
      "outputs": []
    },
    {
      "cell_type": "code",
      "metadata": {
        "id": "lP0Tjr0C0zVS",
        "colab_type": "code",
        "colab": {}
      },
      "source": [
        "model = my_model(df_encoded,models)"
      ],
      "execution_count": 14,
      "outputs": []
    },
    {
      "cell_type": "code",
      "metadata": {
        "id": "FvzFUY3lcJbl",
        "colab_type": "code",
        "colab": {
          "base_uri": "https://localhost:8080/",
          "height": 204
        },
        "outputId": "9766f2b7-8ee3-4629-a95a-ad151aafb844"
      },
      "source": [
        "df = pd.DataFrame(model,columns=['Modelo','Acurácia'])\n",
        "df"
      ],
      "execution_count": 15,
      "outputs": [
        {
          "output_type": "execute_result",
          "data": {
            "text/html": [
              "<div>\n",
              "<style scoped>\n",
              "    .dataframe tbody tr th:only-of-type {\n",
              "        vertical-align: middle;\n",
              "    }\n",
              "\n",
              "    .dataframe tbody tr th {\n",
              "        vertical-align: top;\n",
              "    }\n",
              "\n",
              "    .dataframe thead th {\n",
              "        text-align: right;\n",
              "    }\n",
              "</style>\n",
              "<table border=\"1\" class=\"dataframe\">\n",
              "  <thead>\n",
              "    <tr style=\"text-align: right;\">\n",
              "      <th></th>\n",
              "      <th>Modelo</th>\n",
              "      <th>Acurácia</th>\n",
              "    </tr>\n",
              "  </thead>\n",
              "  <tbody>\n",
              "    <tr>\n",
              "      <th>0</th>\n",
              "      <td>DecisionTreeClassifier(max_depth=14)</td>\n",
              "      <td>0.953309</td>\n",
              "    </tr>\n",
              "    <tr>\n",
              "      <th>1</th>\n",
              "      <td>DecisionTreeClassifier(max_depth=10)</td>\n",
              "      <td>0.954155</td>\n",
              "    </tr>\n",
              "    <tr>\n",
              "      <th>2</th>\n",
              "      <td>DecisionTreeClassifier(max_depth=3)</td>\n",
              "      <td>0.951203</td>\n",
              "    </tr>\n",
              "    <tr>\n",
              "      <th>3</th>\n",
              "      <td>RandomForestClassifier(max_depth=14)</td>\n",
              "      <td>0.955220</td>\n",
              "    </tr>\n",
              "    <tr>\n",
              "      <th>4</th>\n",
              "      <td>RandomForestClassifier(max_depth=10)</td>\n",
              "      <td>0.954547</td>\n",
              "    </tr>\n",
              "  </tbody>\n",
              "</table>\n",
              "</div>"
            ],
            "text/plain": [
              "                                 Modelo  Acurácia\n",
              "0  DecisionTreeClassifier(max_depth=14)  0.953309\n",
              "1  DecisionTreeClassifier(max_depth=10)  0.954155\n",
              "2   DecisionTreeClassifier(max_depth=3)  0.951203\n",
              "3  RandomForestClassifier(max_depth=14)  0.955220\n",
              "4  RandomForestClassifier(max_depth=10)  0.954547"
            ]
          },
          "metadata": {
            "tags": []
          },
          "execution_count": 15
        }
      ]
    }
  ]
}