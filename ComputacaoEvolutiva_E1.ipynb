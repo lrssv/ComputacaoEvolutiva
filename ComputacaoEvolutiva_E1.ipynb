{
  "nbformat": 4,
  "nbformat_minor": 0,
  "metadata": {
    "colab": {
      "name": "ComputacaoEvolutiva_E1.ipynb",
      "provenance": [],
      "mount_file_id": "1jtuRWQuM_hZ9yLA9wGvaxFnTN2XKzzrM",
      "authorship_tag": "ABX9TyNQGJHVpQwv/gFX2+/c/rIw",
      "include_colab_link": true
    },
    "kernelspec": {
      "name": "python3",
      "display_name": "Python 3"
    }
  },
  "cells": [
    {
      "cell_type": "markdown",
      "metadata": {
        "id": "view-in-github",
        "colab_type": "text"
      },
      "source": [
        "<a href=\"https://colab.research.google.com/github/lrssv/ComputacaoEvolutiva/blob/master/ComputacaoEvolutiva_E1.ipynb\" target=\"_parent\"><img src=\"https://colab.research.google.com/assets/colab-badge.svg\" alt=\"Open In Colab\"/></a>"
      ]
    },
    {
      "cell_type": "code",
      "metadata": {
        "id": "3Z4h4AgmDQWn",
        "colab_type": "code",
        "colab": {}
      },
      "source": [
        "!pip install category_encoders"
      ],
      "execution_count": null,
      "outputs": []
    },
    {
      "cell_type": "code",
      "metadata": {
        "id": "_ZrkJFflfJYc",
        "colab_type": "code",
        "colab": {}
      },
      "source": [
        "import pandas as pd\n",
        "from sklearn.tree import DecisionTreeClassifier\n",
        "from sklearn.model_selection import train_test_split\n",
        "from sklearn.metrics import accuracy_score\n",
        "from pandas import read_csv "
      ],
      "execution_count": 46,
      "outputs": []
    },
    {
      "cell_type": "code",
      "metadata": {
        "id": "MnVlpVQigP1w",
        "colab_type": "code",
        "colab": {
          "base_uri": "https://localhost:8080/",
          "height": 71
        },
        "outputId": "5e07cb51-8e5c-466c-c393-87236bed513e"
      },
      "source": [
        "url = '/content/drive/My Drive/Data Files/database.csv'\n",
        "df = pd.read_csv(url)"
      ],
      "execution_count": 62,
      "outputs": [
        {
          "output_type": "stream",
          "text": [
            "/usr/local/lib/python3.6/dist-packages/IPython/core/interactiveshell.py:2718: DtypeWarning: Columns (16) have mixed types.Specify dtype option on import or set low_memory=False.\n",
            "  interactivity=interactivity, compiler=compiler, result=result)\n"
          ],
          "name": "stderr"
        }
      ]
    },
    {
      "cell_type": "code",
      "metadata": {
        "id": "5qYxWhyjlK9Z",
        "colab_type": "code",
        "colab": {}
      },
      "source": [
        "df = df.drop(columns=['State','Agency Type','Agency Code','Agency Name','Record Source'])"
      ],
      "execution_count": 63,
      "outputs": []
    },
    {
      "cell_type": "code",
      "metadata": {
        "id": "RMutTsRiQTJQ",
        "colab_type": "code",
        "colab": {
          "base_uri": "https://localhost:8080/",
          "height": 377
        },
        "outputId": "e0be920b-a2de-4d5a-a38a-700e0f1155a1"
      },
      "source": [
        "df.head(5)"
      ],
      "execution_count": 49,
      "outputs": [
        {
          "output_type": "execute_result",
          "data": {
            "text/html": [
              "<div>\n",
              "<style scoped>\n",
              "    .dataframe tbody tr th:only-of-type {\n",
              "        vertical-align: middle;\n",
              "    }\n",
              "\n",
              "    .dataframe tbody tr th {\n",
              "        vertical-align: top;\n",
              "    }\n",
              "\n",
              "    .dataframe thead th {\n",
              "        text-align: right;\n",
              "    }\n",
              "</style>\n",
              "<table border=\"1\" class=\"dataframe\">\n",
              "  <thead>\n",
              "    <tr style=\"text-align: right;\">\n",
              "      <th></th>\n",
              "      <th>Record ID</th>\n",
              "      <th>City</th>\n",
              "      <th>Year</th>\n",
              "      <th>Month</th>\n",
              "      <th>Incident</th>\n",
              "      <th>Crime Type</th>\n",
              "      <th>Crime Solved</th>\n",
              "      <th>Victim Sex</th>\n",
              "      <th>Victim Age</th>\n",
              "      <th>Victim Race</th>\n",
              "      <th>Victim Ethnicity</th>\n",
              "      <th>Perpetrator Sex</th>\n",
              "      <th>Perpetrator Age</th>\n",
              "      <th>Perpetrator Race</th>\n",
              "      <th>Perpetrator Ethnicity</th>\n",
              "      <th>Relationship</th>\n",
              "      <th>Weapon</th>\n",
              "      <th>Victim Count</th>\n",
              "      <th>Perpetrator Count</th>\n",
              "    </tr>\n",
              "  </thead>\n",
              "  <tbody>\n",
              "    <tr>\n",
              "      <th>0</th>\n",
              "      <td>1</td>\n",
              "      <td>Anchorage</td>\n",
              "      <td>1980</td>\n",
              "      <td>January</td>\n",
              "      <td>1</td>\n",
              "      <td>Murder or Manslaughter</td>\n",
              "      <td>Yes</td>\n",
              "      <td>Male</td>\n",
              "      <td>14</td>\n",
              "      <td>Native American/Alaska Native</td>\n",
              "      <td>Unknown</td>\n",
              "      <td>Male</td>\n",
              "      <td>15</td>\n",
              "      <td>Native American/Alaska Native</td>\n",
              "      <td>Unknown</td>\n",
              "      <td>Acquaintance</td>\n",
              "      <td>Blunt Object</td>\n",
              "      <td>0</td>\n",
              "      <td>0</td>\n",
              "    </tr>\n",
              "    <tr>\n",
              "      <th>1</th>\n",
              "      <td>2</td>\n",
              "      <td>Anchorage</td>\n",
              "      <td>1980</td>\n",
              "      <td>March</td>\n",
              "      <td>1</td>\n",
              "      <td>Murder or Manslaughter</td>\n",
              "      <td>Yes</td>\n",
              "      <td>Male</td>\n",
              "      <td>43</td>\n",
              "      <td>White</td>\n",
              "      <td>Unknown</td>\n",
              "      <td>Male</td>\n",
              "      <td>42</td>\n",
              "      <td>White</td>\n",
              "      <td>Unknown</td>\n",
              "      <td>Acquaintance</td>\n",
              "      <td>Strangulation</td>\n",
              "      <td>0</td>\n",
              "      <td>0</td>\n",
              "    </tr>\n",
              "    <tr>\n",
              "      <th>2</th>\n",
              "      <td>3</td>\n",
              "      <td>Anchorage</td>\n",
              "      <td>1980</td>\n",
              "      <td>March</td>\n",
              "      <td>2</td>\n",
              "      <td>Murder or Manslaughter</td>\n",
              "      <td>No</td>\n",
              "      <td>Female</td>\n",
              "      <td>30</td>\n",
              "      <td>Native American/Alaska Native</td>\n",
              "      <td>Unknown</td>\n",
              "      <td>Unknown</td>\n",
              "      <td>0</td>\n",
              "      <td>Unknown</td>\n",
              "      <td>Unknown</td>\n",
              "      <td>Unknown</td>\n",
              "      <td>Unknown</td>\n",
              "      <td>0</td>\n",
              "      <td>0</td>\n",
              "    </tr>\n",
              "    <tr>\n",
              "      <th>3</th>\n",
              "      <td>4</td>\n",
              "      <td>Anchorage</td>\n",
              "      <td>1980</td>\n",
              "      <td>April</td>\n",
              "      <td>1</td>\n",
              "      <td>Murder or Manslaughter</td>\n",
              "      <td>Yes</td>\n",
              "      <td>Male</td>\n",
              "      <td>43</td>\n",
              "      <td>White</td>\n",
              "      <td>Unknown</td>\n",
              "      <td>Male</td>\n",
              "      <td>42</td>\n",
              "      <td>White</td>\n",
              "      <td>Unknown</td>\n",
              "      <td>Acquaintance</td>\n",
              "      <td>Strangulation</td>\n",
              "      <td>0</td>\n",
              "      <td>0</td>\n",
              "    </tr>\n",
              "    <tr>\n",
              "      <th>4</th>\n",
              "      <td>5</td>\n",
              "      <td>Anchorage</td>\n",
              "      <td>1980</td>\n",
              "      <td>April</td>\n",
              "      <td>2</td>\n",
              "      <td>Murder or Manslaughter</td>\n",
              "      <td>No</td>\n",
              "      <td>Female</td>\n",
              "      <td>30</td>\n",
              "      <td>Native American/Alaska Native</td>\n",
              "      <td>Unknown</td>\n",
              "      <td>Unknown</td>\n",
              "      <td>0</td>\n",
              "      <td>Unknown</td>\n",
              "      <td>Unknown</td>\n",
              "      <td>Unknown</td>\n",
              "      <td>Unknown</td>\n",
              "      <td>0</td>\n",
              "      <td>1</td>\n",
              "    </tr>\n",
              "  </tbody>\n",
              "</table>\n",
              "</div>"
            ],
            "text/plain": [
              "   Record ID       City  Year  ...         Weapon  Victim Count Perpetrator Count\n",
              "0          1  Anchorage  1980  ...   Blunt Object             0                 0\n",
              "1          2  Anchorage  1980  ...  Strangulation             0                 0\n",
              "2          3  Anchorage  1980  ...        Unknown             0                 0\n",
              "3          4  Anchorage  1980  ...  Strangulation             0                 0\n",
              "4          5  Anchorage  1980  ...        Unknown             0                 1\n",
              "\n",
              "[5 rows x 19 columns]"
            ]
          },
          "metadata": {
            "tags": []
          },
          "execution_count": 49
        }
      ]
    },
    {
      "cell_type": "code",
      "metadata": {
        "id": "rBFu-a2sorpA",
        "colab_type": "code",
        "colab": {
          "base_uri": "https://localhost:8080/",
          "height": 34
        },
        "outputId": "5035457b-9bea-4e55-a950-b8e689ccd47f"
      },
      "source": [
        "df['Victim Sex'].value_counts()\n",
        "counts = df['Victim Sex'].value_counts().to_dict()\n",
        "print(counts)"
      ],
      "execution_count": 64,
      "outputs": [
        {
          "output_type": "stream",
          "text": [
            "{'Male': 494125, 'Female': 143345, 'Unknown': 984}\n"
          ],
          "name": "stdout"
        }
      ]
    },
    {
      "cell_type": "code",
      "metadata": {
        "id": "ySTzdQYhnPzP",
        "colab_type": "code",
        "colab": {}
      },
      "source": [
        "df['Victim Sex'] = df['Victim Sex'].map({'Female': 2, 'Male': 1, 'Unknown':0})\n",
        "df['Perpetrator Sex'] = df['Perpetrator Sex'].map({'Female': 2, 'Male': 1, 'Unknown':0})"
      ],
      "execution_count": 65,
      "outputs": []
    },
    {
      "cell_type": "code",
      "metadata": {
        "id": "T29RPAh8j1p9",
        "colab_type": "code",
        "colab": {}
      },
      "source": [
        "x_train, x_test, y_train, y_test = train_test_split(x, y, test_size=0.2, stratify=y, random_state=42)"
      ],
      "execution_count": 66,
      "outputs": []
    },
    {
      "cell_type": "code",
      "metadata": {
        "id": "VFbdUGLErolB",
        "colab_type": "code",
        "colab": {}
      },
      "source": [
        "from category_encoders import TargetEncoder\n",
        "\n",
        "enc = TargetEncoder(cols=['City','Month','Crime Type','Crime Solved','Victim Race','Victim Ethnicity','Perpetrator Race',\n",
        "                          'Perpetrator Ethnicity','Relationship','Weapon'])\n",
        "df_encoded = enc.fit_transform(x_train, y_train)"
      ],
      "execution_count": 67,
      "outputs": []
    },
    {
      "cell_type": "code",
      "metadata": {
        "id": "i5tL30CruSBz",
        "colab_type": "code",
        "colab": {
          "base_uri": "https://localhost:8080/",
          "height": 456
        },
        "outputId": "254828ca-3db3-4523-b298-899c1fddc14a"
      },
      "source": [
        "df_encoded"
      ],
      "execution_count": 69,
      "outputs": [
        {
          "output_type": "execute_result",
          "data": {
            "text/html": [
              "<div>\n",
              "<style scoped>\n",
              "    .dataframe tbody tr th:only-of-type {\n",
              "        vertical-align: middle;\n",
              "    }\n",
              "\n",
              "    .dataframe tbody tr th {\n",
              "        vertical-align: top;\n",
              "    }\n",
              "\n",
              "    .dataframe thead th {\n",
              "        text-align: right;\n",
              "    }\n",
              "</style>\n",
              "<table border=\"1\" class=\"dataframe\">\n",
              "  <thead>\n",
              "    <tr style=\"text-align: right;\">\n",
              "      <th></th>\n",
              "      <th>City</th>\n",
              "      <th>Crime Solved</th>\n",
              "      <th>Crime Type</th>\n",
              "      <th>Incident</th>\n",
              "      <th>Month</th>\n",
              "      <th>Perpetrator Age</th>\n",
              "      <th>Perpetrator Count</th>\n",
              "      <th>Perpetrator Ethnicity</th>\n",
              "      <th>Perpetrator Race</th>\n",
              "      <th>Perpetrator Sex</th>\n",
              "      <th>Record ID</th>\n",
              "      <th>Relationship</th>\n",
              "      <th>Victim Age</th>\n",
              "      <th>Victim Count</th>\n",
              "      <th>Victim Ethnicity</th>\n",
              "      <th>Victim Race</th>\n",
              "      <th>Weapon</th>\n",
              "      <th>Year</th>\n",
              "    </tr>\n",
              "  </thead>\n",
              "  <tbody>\n",
              "    <tr>\n",
              "      <th>260589</th>\n",
              "      <td>1.220000</td>\n",
              "      <td>1.245563</td>\n",
              "      <td>1.222623</td>\n",
              "      <td>1</td>\n",
              "      <td>1.216056</td>\n",
              "      <td>26</td>\n",
              "      <td>0</td>\n",
              "      <td>1.252377</td>\n",
              "      <td>1.283799</td>\n",
              "      <td>1</td>\n",
              "      <td>260590</td>\n",
              "      <td>1.143502</td>\n",
              "      <td>46</td>\n",
              "      <td>0</td>\n",
              "      <td>1.243799</td>\n",
              "      <td>1.270055</td>\n",
              "      <td>1.153926</td>\n",
              "      <td>1992</td>\n",
              "    </tr>\n",
              "    <tr>\n",
              "      <th>172548</th>\n",
              "      <td>1.155102</td>\n",
              "      <td>1.169828</td>\n",
              "      <td>1.222623</td>\n",
              "      <td>15</td>\n",
              "      <td>1.220719</td>\n",
              "      <td>0</td>\n",
              "      <td>0</td>\n",
              "      <td>1.218197</td>\n",
              "      <td>1.170794</td>\n",
              "      <td>0</td>\n",
              "      <td>172549</td>\n",
              "      <td>1.164965</td>\n",
              "      <td>20</td>\n",
              "      <td>0</td>\n",
              "      <td>1.229148</td>\n",
              "      <td>1.270055</td>\n",
              "      <td>1.368114</td>\n",
              "      <td>1988</td>\n",
              "    </tr>\n",
              "    <tr>\n",
              "      <th>187785</th>\n",
              "      <td>1.276596</td>\n",
              "      <td>1.245563</td>\n",
              "      <td>1.222623</td>\n",
              "      <td>1</td>\n",
              "      <td>1.220557</td>\n",
              "      <td>30</td>\n",
              "      <td>0</td>\n",
              "      <td>1.252377</td>\n",
              "      <td>1.283799</td>\n",
              "      <td>1</td>\n",
              "      <td>187786</td>\n",
              "      <td>1.236040</td>\n",
              "      <td>17</td>\n",
              "      <td>0</td>\n",
              "      <td>1.243799</td>\n",
              "      <td>1.270055</td>\n",
              "      <td>1.153926</td>\n",
              "      <td>1989</td>\n",
              "    </tr>\n",
              "    <tr>\n",
              "      <th>601243</th>\n",
              "      <td>1.228388</td>\n",
              "      <td>1.245563</td>\n",
              "      <td>1.222623</td>\n",
              "      <td>2</td>\n",
              "      <td>1.231517</td>\n",
              "      <td>0</td>\n",
              "      <td>1</td>\n",
              "      <td>1.218197</td>\n",
              "      <td>1.205571</td>\n",
              "      <td>1</td>\n",
              "      <td>601244</td>\n",
              "      <td>1.164965</td>\n",
              "      <td>28</td>\n",
              "      <td>0</td>\n",
              "      <td>1.243799</td>\n",
              "      <td>1.173642</td>\n",
              "      <td>1.136928</td>\n",
              "      <td>2013</td>\n",
              "    </tr>\n",
              "    <tr>\n",
              "      <th>112374</th>\n",
              "      <td>1.148085</td>\n",
              "      <td>1.169828</td>\n",
              "      <td>1.222623</td>\n",
              "      <td>9</td>\n",
              "      <td>1.216056</td>\n",
              "      <td>0</td>\n",
              "      <td>0</td>\n",
              "      <td>1.218197</td>\n",
              "      <td>1.170794</td>\n",
              "      <td>0</td>\n",
              "      <td>112375</td>\n",
              "      <td>1.164965</td>\n",
              "      <td>23</td>\n",
              "      <td>0</td>\n",
              "      <td>1.243799</td>\n",
              "      <td>1.173642</td>\n",
              "      <td>1.136928</td>\n",
              "      <td>1985</td>\n",
              "    </tr>\n",
              "    <tr>\n",
              "      <th>...</th>\n",
              "      <td>...</td>\n",
              "      <td>...</td>\n",
              "      <td>...</td>\n",
              "      <td>...</td>\n",
              "      <td>...</td>\n",
              "      <td>...</td>\n",
              "      <td>...</td>\n",
              "      <td>...</td>\n",
              "      <td>...</td>\n",
              "      <td>...</td>\n",
              "      <td>...</td>\n",
              "      <td>...</td>\n",
              "      <td>...</td>\n",
              "      <td>...</td>\n",
              "      <td>...</td>\n",
              "      <td>...</td>\n",
              "      <td>...</td>\n",
              "      <td>...</td>\n",
              "    </tr>\n",
              "    <tr>\n",
              "      <th>536650</th>\n",
              "      <td>1.235144</td>\n",
              "      <td>1.245563</td>\n",
              "      <td>1.222623</td>\n",
              "      <td>1</td>\n",
              "      <td>1.217919</td>\n",
              "      <td>28</td>\n",
              "      <td>0</td>\n",
              "      <td>1.218197</td>\n",
              "      <td>1.283799</td>\n",
              "      <td>1</td>\n",
              "      <td>536651</td>\n",
              "      <td>1.150213</td>\n",
              "      <td>24</td>\n",
              "      <td>0</td>\n",
              "      <td>1.229148</td>\n",
              "      <td>1.173642</td>\n",
              "      <td>1.268981</td>\n",
              "      <td>2008</td>\n",
              "    </tr>\n",
              "    <tr>\n",
              "      <th>50001</th>\n",
              "      <td>1.234149</td>\n",
              "      <td>1.245563</td>\n",
              "      <td>1.222623</td>\n",
              "      <td>4</td>\n",
              "      <td>1.217919</td>\n",
              "      <td>20</td>\n",
              "      <td>0</td>\n",
              "      <td>1.252377</td>\n",
              "      <td>1.205571</td>\n",
              "      <td>1</td>\n",
              "      <td>50002</td>\n",
              "      <td>1.164965</td>\n",
              "      <td>34</td>\n",
              "      <td>0</td>\n",
              "      <td>1.243799</td>\n",
              "      <td>1.173642</td>\n",
              "      <td>1.153926</td>\n",
              "      <td>1982</td>\n",
              "    </tr>\n",
              "    <tr>\n",
              "      <th>560011</th>\n",
              "      <td>1.244988</td>\n",
              "      <td>1.245563</td>\n",
              "      <td>1.222623</td>\n",
              "      <td>1</td>\n",
              "      <td>1.222874</td>\n",
              "      <td>44</td>\n",
              "      <td>0</td>\n",
              "      <td>1.218197</td>\n",
              "      <td>1.283799</td>\n",
              "      <td>1</td>\n",
              "      <td>560012</td>\n",
              "      <td>1.944224</td>\n",
              "      <td>15</td>\n",
              "      <td>1</td>\n",
              "      <td>1.229148</td>\n",
              "      <td>1.270055</td>\n",
              "      <td>1.224975</td>\n",
              "      <td>2009</td>\n",
              "    </tr>\n",
              "    <tr>\n",
              "      <th>441551</th>\n",
              "      <td>1.181420</td>\n",
              "      <td>1.245563</td>\n",
              "      <td>1.222623</td>\n",
              "      <td>10</td>\n",
              "      <td>1.215122</td>\n",
              "      <td>20</td>\n",
              "      <td>0</td>\n",
              "      <td>1.218197</td>\n",
              "      <td>1.205571</td>\n",
              "      <td>1</td>\n",
              "      <td>441552</td>\n",
              "      <td>1.123110</td>\n",
              "      <td>25</td>\n",
              "      <td>0</td>\n",
              "      <td>1.229148</td>\n",
              "      <td>1.173642</td>\n",
              "      <td>1.268981</td>\n",
              "      <td>2002</td>\n",
              "    </tr>\n",
              "    <tr>\n",
              "      <th>248423</th>\n",
              "      <td>1.120404</td>\n",
              "      <td>1.245563</td>\n",
              "      <td>1.222623</td>\n",
              "      <td>10</td>\n",
              "      <td>1.217919</td>\n",
              "      <td>18</td>\n",
              "      <td>0</td>\n",
              "      <td>1.218197</td>\n",
              "      <td>1.205571</td>\n",
              "      <td>1</td>\n",
              "      <td>248424</td>\n",
              "      <td>1.123110</td>\n",
              "      <td>34</td>\n",
              "      <td>0</td>\n",
              "      <td>1.229148</td>\n",
              "      <td>1.173642</td>\n",
              "      <td>1.153926</td>\n",
              "      <td>1992</td>\n",
              "    </tr>\n",
              "  </tbody>\n",
              "</table>\n",
              "<p>510763 rows × 18 columns</p>\n",
              "</div>"
            ],
            "text/plain": [
              "            City  Crime Solved  Crime Type  ...  Victim Race    Weapon  Year\n",
              "260589  1.220000      1.245563    1.222623  ...     1.270055  1.153926  1992\n",
              "172548  1.155102      1.169828    1.222623  ...     1.270055  1.368114  1988\n",
              "187785  1.276596      1.245563    1.222623  ...     1.270055  1.153926  1989\n",
              "601243  1.228388      1.245563    1.222623  ...     1.173642  1.136928  2013\n",
              "112374  1.148085      1.169828    1.222623  ...     1.173642  1.136928  1985\n",
              "...          ...           ...         ...  ...          ...       ...   ...\n",
              "536650  1.235144      1.245563    1.222623  ...     1.173642  1.268981  2008\n",
              "50001   1.234149      1.245563    1.222623  ...     1.173642  1.153926  1982\n",
              "560011  1.244988      1.245563    1.222623  ...     1.270055  1.224975  2009\n",
              "441551  1.181420      1.245563    1.222623  ...     1.173642  1.268981  2002\n",
              "248423  1.120404      1.245563    1.222623  ...     1.173642  1.153926  1992\n",
              "\n",
              "[510763 rows x 18 columns]"
            ]
          },
          "metadata": {
            "tags": []
          },
          "execution_count": 69
        }
      ]
    },
    {
      "cell_type": "code",
      "metadata": {
        "id": "GCChg5CBtopO",
        "colab_type": "code",
        "colab": {
          "base_uri": "https://localhost:8080/",
          "height": 323
        },
        "outputId": "6047fc3e-0f6d-4908-f6d0-b288dd73cab5"
      },
      "source": [
        "x = df_encoded[df_encoded.columns.difference(['Victim Sex'])]\n",
        "y = df_encoded[['Victim Sex']]"
      ],
      "execution_count": 68,
      "outputs": [
        {
          "output_type": "error",
          "ename": "KeyError",
          "evalue": "ignored",
          "traceback": [
            "\u001b[0;31m---------------------------------------------------------------------------\u001b[0m",
            "\u001b[0;31mKeyError\u001b[0m                                  Traceback (most recent call last)",
            "\u001b[0;32m<ipython-input-68-4b14beccf498>\u001b[0m in \u001b[0;36m<module>\u001b[0;34m()\u001b[0m\n\u001b[1;32m      1\u001b[0m \u001b[0mx\u001b[0m \u001b[0;34m=\u001b[0m \u001b[0mdf_encoded\u001b[0m\u001b[0;34m[\u001b[0m\u001b[0mdf_encoded\u001b[0m\u001b[0;34m.\u001b[0m\u001b[0mcolumns\u001b[0m\u001b[0;34m.\u001b[0m\u001b[0mdifference\u001b[0m\u001b[0;34m(\u001b[0m\u001b[0;34m[\u001b[0m\u001b[0;34m'Victim Sex'\u001b[0m\u001b[0;34m]\u001b[0m\u001b[0;34m)\u001b[0m\u001b[0;34m]\u001b[0m\u001b[0;34m\u001b[0m\u001b[0;34m\u001b[0m\u001b[0m\n\u001b[0;32m----> 2\u001b[0;31m \u001b[0my\u001b[0m \u001b[0;34m=\u001b[0m \u001b[0mdf_encoded\u001b[0m\u001b[0;34m[\u001b[0m\u001b[0;34m[\u001b[0m\u001b[0;34m'Victim Sex'\u001b[0m\u001b[0;34m]\u001b[0m\u001b[0;34m]\u001b[0m\u001b[0;34m\u001b[0m\u001b[0;34m\u001b[0m\u001b[0m\n\u001b[0m",
            "\u001b[0;32m/usr/local/lib/python3.6/dist-packages/pandas/core/frame.py\u001b[0m in \u001b[0;36m__getitem__\u001b[0;34m(self, key)\u001b[0m\n\u001b[1;32m   2804\u001b[0m             \u001b[0;32mif\u001b[0m \u001b[0mis_iterator\u001b[0m\u001b[0;34m(\u001b[0m\u001b[0mkey\u001b[0m\u001b[0;34m)\u001b[0m\u001b[0;34m:\u001b[0m\u001b[0;34m\u001b[0m\u001b[0;34m\u001b[0m\u001b[0m\n\u001b[1;32m   2805\u001b[0m                 \u001b[0mkey\u001b[0m \u001b[0;34m=\u001b[0m \u001b[0mlist\u001b[0m\u001b[0;34m(\u001b[0m\u001b[0mkey\u001b[0m\u001b[0;34m)\u001b[0m\u001b[0;34m\u001b[0m\u001b[0;34m\u001b[0m\u001b[0m\n\u001b[0;32m-> 2806\u001b[0;31m             \u001b[0mindexer\u001b[0m \u001b[0;34m=\u001b[0m \u001b[0mself\u001b[0m\u001b[0;34m.\u001b[0m\u001b[0mloc\u001b[0m\u001b[0;34m.\u001b[0m\u001b[0m_get_listlike_indexer\u001b[0m\u001b[0;34m(\u001b[0m\u001b[0mkey\u001b[0m\u001b[0;34m,\u001b[0m \u001b[0maxis\u001b[0m\u001b[0;34m=\u001b[0m\u001b[0;36m1\u001b[0m\u001b[0;34m,\u001b[0m \u001b[0mraise_missing\u001b[0m\u001b[0;34m=\u001b[0m\u001b[0;32mTrue\u001b[0m\u001b[0;34m)\u001b[0m\u001b[0;34m[\u001b[0m\u001b[0;36m1\u001b[0m\u001b[0;34m]\u001b[0m\u001b[0;34m\u001b[0m\u001b[0;34m\u001b[0m\u001b[0m\n\u001b[0m\u001b[1;32m   2807\u001b[0m \u001b[0;34m\u001b[0m\u001b[0m\n\u001b[1;32m   2808\u001b[0m         \u001b[0;31m# take() does not accept boolean indexers\u001b[0m\u001b[0;34m\u001b[0m\u001b[0;34m\u001b[0m\u001b[0;34m\u001b[0m\u001b[0m\n",
            "\u001b[0;32m/usr/local/lib/python3.6/dist-packages/pandas/core/indexing.py\u001b[0m in \u001b[0;36m_get_listlike_indexer\u001b[0;34m(self, key, axis, raise_missing)\u001b[0m\n\u001b[1;32m   1551\u001b[0m \u001b[0;34m\u001b[0m\u001b[0m\n\u001b[1;32m   1552\u001b[0m         self._validate_read_indexer(\n\u001b[0;32m-> 1553\u001b[0;31m             \u001b[0mkeyarr\u001b[0m\u001b[0;34m,\u001b[0m \u001b[0mindexer\u001b[0m\u001b[0;34m,\u001b[0m \u001b[0mo\u001b[0m\u001b[0;34m.\u001b[0m\u001b[0m_get_axis_number\u001b[0m\u001b[0;34m(\u001b[0m\u001b[0maxis\u001b[0m\u001b[0;34m)\u001b[0m\u001b[0;34m,\u001b[0m \u001b[0mraise_missing\u001b[0m\u001b[0;34m=\u001b[0m\u001b[0mraise_missing\u001b[0m\u001b[0;34m\u001b[0m\u001b[0;34m\u001b[0m\u001b[0m\n\u001b[0m\u001b[1;32m   1554\u001b[0m         )\n\u001b[1;32m   1555\u001b[0m         \u001b[0;32mreturn\u001b[0m \u001b[0mkeyarr\u001b[0m\u001b[0;34m,\u001b[0m \u001b[0mindexer\u001b[0m\u001b[0;34m\u001b[0m\u001b[0;34m\u001b[0m\u001b[0m\n",
            "\u001b[0;32m/usr/local/lib/python3.6/dist-packages/pandas/core/indexing.py\u001b[0m in \u001b[0;36m_validate_read_indexer\u001b[0;34m(self, key, indexer, axis, raise_missing)\u001b[0m\n\u001b[1;32m   1638\u001b[0m             \u001b[0;32mif\u001b[0m \u001b[0mmissing\u001b[0m \u001b[0;34m==\u001b[0m \u001b[0mlen\u001b[0m\u001b[0;34m(\u001b[0m\u001b[0mindexer\u001b[0m\u001b[0;34m)\u001b[0m\u001b[0;34m:\u001b[0m\u001b[0;34m\u001b[0m\u001b[0;34m\u001b[0m\u001b[0m\n\u001b[1;32m   1639\u001b[0m                 \u001b[0maxis_name\u001b[0m \u001b[0;34m=\u001b[0m \u001b[0mself\u001b[0m\u001b[0;34m.\u001b[0m\u001b[0mobj\u001b[0m\u001b[0;34m.\u001b[0m\u001b[0m_get_axis_name\u001b[0m\u001b[0;34m(\u001b[0m\u001b[0maxis\u001b[0m\u001b[0;34m)\u001b[0m\u001b[0;34m\u001b[0m\u001b[0;34m\u001b[0m\u001b[0m\n\u001b[0;32m-> 1640\u001b[0;31m                 \u001b[0;32mraise\u001b[0m \u001b[0mKeyError\u001b[0m\u001b[0;34m(\u001b[0m\u001b[0;34mf\"None of [{key}] are in the [{axis_name}]\"\u001b[0m\u001b[0;34m)\u001b[0m\u001b[0;34m\u001b[0m\u001b[0;34m\u001b[0m\u001b[0m\n\u001b[0m\u001b[1;32m   1641\u001b[0m \u001b[0;34m\u001b[0m\u001b[0m\n\u001b[1;32m   1642\u001b[0m             \u001b[0;31m# We (temporarily) allow for some missing keys with .loc, except in\u001b[0m\u001b[0;34m\u001b[0m\u001b[0;34m\u001b[0m\u001b[0;34m\u001b[0m\u001b[0m\n",
            "\u001b[0;31mKeyError\u001b[0m: \"None of [Index(['Victim Sex'], dtype='object')] are in the [columns]\""
          ]
        }
      ]
    },
    {
      "cell_type": "code",
      "metadata": {
        "id": "IjN6M-6-DlU-",
        "colab_type": "code",
        "colab": {}
      },
      "source": [
        "#######################################################################"
      ],
      "execution_count": null,
      "outputs": []
    },
    {
      "cell_type": "code",
      "metadata": {
        "id": "fyQztkc4kQ85",
        "colab_type": "code",
        "colab": {}
      },
      "source": [
        "victim_model = DecisionTreeClassifier(random_state=42,max_depth=10)"
      ],
      "execution_count": 56,
      "outputs": []
    },
    {
      "cell_type": "code",
      "metadata": {
        "id": "2M4WkcX2kcQx",
        "colab_type": "code",
        "colab": {
          "base_uri": "https://localhost:8080/",
          "height": 163
        },
        "outputId": "fd4a2710-a32e-4c38-e7ca-7135cf2afa9a"
      },
      "source": [
        "victim_model.fit(training_set) "
      ],
      "execution_count": 60,
      "outputs": [
        {
          "output_type": "error",
          "ename": "TypeError",
          "evalue": "ignored",
          "traceback": [
            "\u001b[0;31m---------------------------------------------------------------------------\u001b[0m",
            "\u001b[0;31mTypeError\u001b[0m                                 Traceback (most recent call last)",
            "\u001b[0;32m<ipython-input-60-a0c114a1a1ca>\u001b[0m in \u001b[0;36m<module>\u001b[0;34m()\u001b[0m\n\u001b[0;32m----> 1\u001b[0;31m \u001b[0mvictim_model\u001b[0m\u001b[0;34m.\u001b[0m\u001b[0mfit\u001b[0m\u001b[0;34m(\u001b[0m\u001b[0mtraining_set\u001b[0m\u001b[0;34m)\u001b[0m\u001b[0;34m\u001b[0m\u001b[0;34m\u001b[0m\u001b[0m\n\u001b[0m",
            "\u001b[0;31mTypeError\u001b[0m: fit() missing 1 required positional argument: 'y'"
          ]
        }
      ]
    },
    {
      "cell_type": "code",
      "metadata": {
        "id": "eB9_B2PHkkYI",
        "colab_type": "code",
        "colab": {}
      },
      "source": [
        "print(x_train)"
      ],
      "execution_count": null,
      "outputs": []
    }
  ]
}