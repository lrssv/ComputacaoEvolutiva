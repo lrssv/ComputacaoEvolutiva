{
  "nbformat": 4,
  "nbformat_minor": 0,
  "metadata": {
    "colab": {
      "name": "Data_treatment.ipynb",
      "provenance": [],
      "collapsed_sections": [],
      "mount_file_id": "1jtuRWQuM_hZ9yLA9wGvaxFnTN2XKzzrM",
      "authorship_tag": "ABX9TyNPLKRBuhFwm5W09Jp16Y6H",
      "include_colab_link": true
    },
    "kernelspec": {
      "name": "python3",
      "display_name": "Python 3"
    }
  },
  "cells": [
    {
      "cell_type": "markdown",
      "metadata": {
        "id": "view-in-github",
        "colab_type": "text"
      },
      "source": [
        "<a href=\"https://colab.research.google.com/github/lrssv/ComputacaoEvolutiva/blob/master/Data_treatment.ipynb\" target=\"_parent\"><img src=\"https://colab.research.google.com/assets/colab-badge.svg\" alt=\"Open In Colab\"/></a>"
      ]
    },
    {
      "cell_type": "markdown",
      "metadata": {
        "id": "u9_aFrseqLAO",
        "colab_type": "text"
      },
      "source": [
        "# Model for classifying the victim's gender using an evolutionary algorithm to select features.\n",
        "\n",
        "* ## Data Treatment\n",
        "\n",
        "\n"
      ]
    },
    {
      "cell_type": "markdown",
      "metadata": {
        "id": "ItZ_rlDHxfR2",
        "colab_type": "text"
      },
      "source": [
        "## Imports"
      ]
    },
    {
      "cell_type": "code",
      "metadata": {
        "id": "3Z4h4AgmDQWn",
        "colab_type": "code",
        "colab": {}
      },
      "source": [
        "!pip install category_encoders"
      ],
      "execution_count": null,
      "outputs": []
    },
    {
      "cell_type": "code",
      "metadata": {
        "id": "_ZrkJFflfJYc",
        "colab_type": "code",
        "colab": {}
      },
      "source": [
        "import pandas as pd\n",
        "from sklearn.tree import DecisionTreeClassifier\n",
        "from sklearn.model_selection import train_test_split\n",
        "from sklearn.metrics import accuracy_score\n",
        "from pandas import read_csv \n",
        "from category_encoders import TargetEncoder"
      ],
      "execution_count": 21,
      "outputs": []
    },
    {
      "cell_type": "markdown",
      "metadata": {
        "id": "wrcO7T35tcPI",
        "colab_type": "text"
      },
      "source": [
        "## Scripts"
      ]
    },
    {
      "cell_type": "code",
      "metadata": {
        "id": "M895eKLHqOmX",
        "colab_type": "code",
        "colab": {}
      },
      "source": [
        "def database(url):\n",
        "  df = pd.read_csv(url)\n",
        "  df = df.drop(columns=['State','Agency Type','Agency Code','Agency Name','Record Source'])\n",
        "\n",
        "  return df"
      ],
      "execution_count": 22,
      "outputs": []
    },
    {
      "cell_type": "code",
      "metadata": {
        "id": "rBFu-a2sorpA",
        "colab_type": "code",
        "colab": {}
      },
      "source": [
        "def target_encoder(df):\n",
        "  df['Victim Sex'] = df['Victim Sex'].map({'Female': 2, 'Male': 1, 'Unknown':0})\n",
        "  df['Perpetrator Sex'] = df['Perpetrator Sex'].map({'Female': 2, 'Male': 1, 'Unknown':0})\n",
        "\n",
        "  enc = TargetEncoder()\n",
        "  df_encoded = enc.fit_transform(df, df['Victim Sex'])\n",
        "\n",
        "  return (df_encoded)"
      ],
      "execution_count": 23,
      "outputs": []
    },
    {
      "cell_type": "markdown",
      "metadata": {
        "id": "R93QkOwUqi5a",
        "colab_type": "text"
      },
      "source": [
        "## Instances"
      ]
    },
    {
      "cell_type": "code",
      "metadata": {
        "id": "d4Ewr4e9qh3R",
        "colab_type": "code",
        "colab": {
          "base_uri": "https://localhost:8080/",
          "height": 71
        },
        "outputId": "2a2d42c4-129c-45bf-e379-701477ca612d"
      },
      "source": [
        "df = database('/content/drive/My Drive/Data Files/database.csv')"
      ],
      "execution_count": 24,
      "outputs": [
        {
          "output_type": "stream",
          "text": [
            "/usr/local/lib/python3.6/dist-packages/IPython/core/interactiveshell.py:2822: DtypeWarning: Columns (16) have mixed types.Specify dtype option on import or set low_memory=False.\n",
            "  if self.run_code(code, result):\n"
          ],
          "name": "stderr"
        }
      ]
    },
    {
      "cell_type": "code",
      "metadata": {
        "id": "N3E8rOG-qo_M",
        "colab_type": "code",
        "colab": {}
      },
      "source": [
        "df_encoded = target_encoder(df)"
      ],
      "execution_count": 25,
      "outputs": []
    },
    {
      "cell_type": "code",
      "metadata": {
        "id": "ejDTM2xoq3Ru",
        "colab_type": "code",
        "colab": {
          "base_uri": "https://localhost:8080/",
          "height": 456
        },
        "outputId": "6e9bf5b4-d144-4b83-b015-c6b001af9ade"
      },
      "source": [
        "df_encoded"
      ],
      "execution_count": 26,
      "outputs": [
        {
          "output_type": "execute_result",
          "data": {
            "text/html": [
              "<div>\n",
              "<style scoped>\n",
              "    .dataframe tbody tr th:only-of-type {\n",
              "        vertical-align: middle;\n",
              "    }\n",
              "\n",
              "    .dataframe tbody tr th {\n",
              "        vertical-align: top;\n",
              "    }\n",
              "\n",
              "    .dataframe thead th {\n",
              "        text-align: right;\n",
              "    }\n",
              "</style>\n",
              "<table border=\"1\" class=\"dataframe\">\n",
              "  <thead>\n",
              "    <tr style=\"text-align: right;\">\n",
              "      <th></th>\n",
              "      <th>Record ID</th>\n",
              "      <th>City</th>\n",
              "      <th>Year</th>\n",
              "      <th>Month</th>\n",
              "      <th>Incident</th>\n",
              "      <th>Crime Type</th>\n",
              "      <th>Crime Solved</th>\n",
              "      <th>Victim Sex</th>\n",
              "      <th>Victim Age</th>\n",
              "      <th>Victim Race</th>\n",
              "      <th>Victim Ethnicity</th>\n",
              "      <th>Perpetrator Sex</th>\n",
              "      <th>Perpetrator Age</th>\n",
              "      <th>Perpetrator Race</th>\n",
              "      <th>Perpetrator Ethnicity</th>\n",
              "      <th>Relationship</th>\n",
              "      <th>Weapon</th>\n",
              "      <th>Victim Count</th>\n",
              "      <th>Perpetrator Count</th>\n",
              "    </tr>\n",
              "  </thead>\n",
              "  <tbody>\n",
              "    <tr>\n",
              "      <th>0</th>\n",
              "      <td>1</td>\n",
              "      <td>1.279586</td>\n",
              "      <td>1980</td>\n",
              "      <td>1.226100</td>\n",
              "      <td>1</td>\n",
              "      <td>1.222653</td>\n",
              "      <td>1.245303</td>\n",
              "      <td>1</td>\n",
              "      <td>14</td>\n",
              "      <td>1.266477</td>\n",
              "      <td>1.229243</td>\n",
              "      <td>1</td>\n",
              "      <td>1.173321</td>\n",
              "      <td>1.261799</td>\n",
              "      <td>1.218375</td>\n",
              "      <td>1.149661</td>\n",
              "      <td>1.370346</td>\n",
              "      <td>0</td>\n",
              "      <td>0</td>\n",
              "    </tr>\n",
              "    <tr>\n",
              "      <th>1</th>\n",
              "      <td>2</td>\n",
              "      <td>1.279586</td>\n",
              "      <td>1980</td>\n",
              "      <td>1.230114</td>\n",
              "      <td>1</td>\n",
              "      <td>1.222653</td>\n",
              "      <td>1.245303</td>\n",
              "      <td>1</td>\n",
              "      <td>43</td>\n",
              "      <td>1.269937</td>\n",
              "      <td>1.229243</td>\n",
              "      <td>1</td>\n",
              "      <td>1.319797</td>\n",
              "      <td>1.283624</td>\n",
              "      <td>1.218375</td>\n",
              "      <td>1.149661</td>\n",
              "      <td>1.683970</td>\n",
              "      <td>0</td>\n",
              "      <td>0</td>\n",
              "    </tr>\n",
              "    <tr>\n",
              "      <th>2</th>\n",
              "      <td>3</td>\n",
              "      <td>1.279586</td>\n",
              "      <td>1980</td>\n",
              "      <td>1.230114</td>\n",
              "      <td>2</td>\n",
              "      <td>1.222653</td>\n",
              "      <td>1.170394</td>\n",
              "      <td>2</td>\n",
              "      <td>30</td>\n",
              "      <td>1.266477</td>\n",
              "      <td>1.229243</td>\n",
              "      <td>0</td>\n",
              "      <td>1.165384</td>\n",
              "      <td>1.171296</td>\n",
              "      <td>1.218375</td>\n",
              "      <td>1.165120</td>\n",
              "      <td>1.365691</td>\n",
              "      <td>0</td>\n",
              "      <td>0</td>\n",
              "    </tr>\n",
              "    <tr>\n",
              "      <th>3</th>\n",
              "      <td>4</td>\n",
              "      <td>1.279586</td>\n",
              "      <td>1980</td>\n",
              "      <td>1.230194</td>\n",
              "      <td>1</td>\n",
              "      <td>1.222653</td>\n",
              "      <td>1.245303</td>\n",
              "      <td>1</td>\n",
              "      <td>43</td>\n",
              "      <td>1.269937</td>\n",
              "      <td>1.229243</td>\n",
              "      <td>1</td>\n",
              "      <td>1.319797</td>\n",
              "      <td>1.283624</td>\n",
              "      <td>1.218375</td>\n",
              "      <td>1.149661</td>\n",
              "      <td>1.683970</td>\n",
              "      <td>0</td>\n",
              "      <td>0</td>\n",
              "    </tr>\n",
              "    <tr>\n",
              "      <th>4</th>\n",
              "      <td>5</td>\n",
              "      <td>1.279586</td>\n",
              "      <td>1980</td>\n",
              "      <td>1.230194</td>\n",
              "      <td>2</td>\n",
              "      <td>1.222653</td>\n",
              "      <td>1.170394</td>\n",
              "      <td>2</td>\n",
              "      <td>30</td>\n",
              "      <td>1.266477</td>\n",
              "      <td>1.229243</td>\n",
              "      <td>0</td>\n",
              "      <td>1.165384</td>\n",
              "      <td>1.171296</td>\n",
              "      <td>1.218375</td>\n",
              "      <td>1.165120</td>\n",
              "      <td>1.365691</td>\n",
              "      <td>0</td>\n",
              "      <td>1</td>\n",
              "    </tr>\n",
              "    <tr>\n",
              "      <th>...</th>\n",
              "      <td>...</td>\n",
              "      <td>...</td>\n",
              "      <td>...</td>\n",
              "      <td>...</td>\n",
              "      <td>...</td>\n",
              "      <td>...</td>\n",
              "      <td>...</td>\n",
              "      <td>...</td>\n",
              "      <td>...</td>\n",
              "      <td>...</td>\n",
              "      <td>...</td>\n",
              "      <td>...</td>\n",
              "      <td>...</td>\n",
              "      <td>...</td>\n",
              "      <td>...</td>\n",
              "      <td>...</td>\n",
              "      <td>...</td>\n",
              "      <td>...</td>\n",
              "      <td>...</td>\n",
              "    </tr>\n",
              "    <tr>\n",
              "      <th>638449</th>\n",
              "      <td>638450</td>\n",
              "      <td>1.403846</td>\n",
              "      <td>2014</td>\n",
              "      <td>1.226100</td>\n",
              "      <td>1</td>\n",
              "      <td>1.222653</td>\n",
              "      <td>1.170394</td>\n",
              "      <td>1</td>\n",
              "      <td>30</td>\n",
              "      <td>1.269937</td>\n",
              "      <td>1.134945</td>\n",
              "      <td>0</td>\n",
              "      <td>1.111090</td>\n",
              "      <td>1.171296</td>\n",
              "      <td>1.218375</td>\n",
              "      <td>1.165120</td>\n",
              "      <td>1.153664</td>\n",
              "      <td>0</td>\n",
              "      <td>0</td>\n",
              "    </tr>\n",
              "    <tr>\n",
              "      <th>638450</th>\n",
              "      <td>638451</td>\n",
              "      <td>1.393939</td>\n",
              "      <td>2014</td>\n",
              "      <td>1.219243</td>\n",
              "      <td>1</td>\n",
              "      <td>1.222653</td>\n",
              "      <td>1.245303</td>\n",
              "      <td>1</td>\n",
              "      <td>62</td>\n",
              "      <td>1.269937</td>\n",
              "      <td>1.229243</td>\n",
              "      <td>1</td>\n",
              "      <td>1.413333</td>\n",
              "      <td>1.283624</td>\n",
              "      <td>1.218375</td>\n",
              "      <td>1.149661</td>\n",
              "      <td>1.153664</td>\n",
              "      <td>0</td>\n",
              "      <td>0</td>\n",
              "    </tr>\n",
              "    <tr>\n",
              "      <th>638451</th>\n",
              "      <td>638452</td>\n",
              "      <td>1.393939</td>\n",
              "      <td>2014</td>\n",
              "      <td>1.220578</td>\n",
              "      <td>1</td>\n",
              "      <td>1.222653</td>\n",
              "      <td>1.245303</td>\n",
              "      <td>2</td>\n",
              "      <td>0</td>\n",
              "      <td>1.298382</td>\n",
              "      <td>1.229243</td>\n",
              "      <td>2</td>\n",
              "      <td>1.210526</td>\n",
              "      <td>1.317400</td>\n",
              "      <td>1.218375</td>\n",
              "      <td>1.944157</td>\n",
              "      <td>1.573841</td>\n",
              "      <td>0</td>\n",
              "      <td>0</td>\n",
              "    </tr>\n",
              "    <tr>\n",
              "      <th>638452</th>\n",
              "      <td>638453</td>\n",
              "      <td>1.277778</td>\n",
              "      <td>2014</td>\n",
              "      <td>1.223096</td>\n",
              "      <td>1</td>\n",
              "      <td>1.222653</td>\n",
              "      <td>1.245303</td>\n",
              "      <td>1</td>\n",
              "      <td>55</td>\n",
              "      <td>1.269937</td>\n",
              "      <td>1.243677</td>\n",
              "      <td>1</td>\n",
              "      <td>1.213235</td>\n",
              "      <td>1.283624</td>\n",
              "      <td>1.251984</td>\n",
              "      <td>1.122773</td>\n",
              "      <td>1.267381</td>\n",
              "      <td>0</td>\n",
              "      <td>1</td>\n",
              "    </tr>\n",
              "    <tr>\n",
              "      <th>638453</th>\n",
              "      <td>638454</td>\n",
              "      <td>1.355263</td>\n",
              "      <td>2014</td>\n",
              "      <td>1.220578</td>\n",
              "      <td>1</td>\n",
              "      <td>1.222653</td>\n",
              "      <td>1.245303</td>\n",
              "      <td>2</td>\n",
              "      <td>0</td>\n",
              "      <td>1.269937</td>\n",
              "      <td>1.243677</td>\n",
              "      <td>2</td>\n",
              "      <td>1.228916</td>\n",
              "      <td>1.283624</td>\n",
              "      <td>1.251984</td>\n",
              "      <td>1.944157</td>\n",
              "      <td>1.370346</td>\n",
              "      <td>0</td>\n",
              "      <td>1</td>\n",
              "    </tr>\n",
              "  </tbody>\n",
              "</table>\n",
              "<p>638454 rows × 19 columns</p>\n",
              "</div>"
            ],
            "text/plain": [
              "        Record ID      City  Year  ...    Weapon  Victim Count  Perpetrator Count\n",
              "0               1  1.279586  1980  ...  1.370346             0                  0\n",
              "1               2  1.279586  1980  ...  1.683970             0                  0\n",
              "2               3  1.279586  1980  ...  1.365691             0                  0\n",
              "3               4  1.279586  1980  ...  1.683970             0                  0\n",
              "4               5  1.279586  1980  ...  1.365691             0                  1\n",
              "...           ...       ...   ...  ...       ...           ...                ...\n",
              "638449     638450  1.403846  2014  ...  1.153664             0                  0\n",
              "638450     638451  1.393939  2014  ...  1.153664             0                  0\n",
              "638451     638452  1.393939  2014  ...  1.573841             0                  0\n",
              "638452     638453  1.277778  2014  ...  1.267381             0                  1\n",
              "638453     638454  1.355263  2014  ...  1.370346             0                  1\n",
              "\n",
              "[638454 rows x 19 columns]"
            ]
          },
          "metadata": {
            "tags": []
          },
          "execution_count": 26
        }
      ]
    },
    {
      "cell_type": "code",
      "metadata": {
        "id": "F80-IDWwpOXp",
        "colab_type": "code",
        "colab": {}
      },
      "source": [
        "#Exporta pra csv\n",
        "df_encoded.to_csv('/content/drive/My Drive/Data Files/df_model_victim_encoded')"
      ],
      "execution_count": 27,
      "outputs": []
    }
  ]
}