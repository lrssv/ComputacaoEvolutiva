{
  "nbformat": 4,
  "nbformat_minor": 0,
  "metadata": {
    "colab": {
      "name": "Pop_Management.ipynb",
      "provenance": [],
      "mount_file_id": "19rYiH-zNvylPp7UcXlLq2SM32WVc3IXz",
      "authorship_tag": "ABX9TyPfuQ+nZLOOT7Uzo5FLXUA+",
      "include_colab_link": true
    },
    "kernelspec": {
      "name": "python3",
      "display_name": "Python 3"
    }
  },
  "cells": [
    {
      "cell_type": "markdown",
      "metadata": {
        "id": "view-in-github",
        "colab_type": "text"
      },
      "source": [
        "<a href=\"https://colab.research.google.com/github/lrssv/ComputacaoEvolutiva/blob/master/Pop_Management.ipynb\" target=\"_parent\"><img src=\"https://colab.research.google.com/assets/colab-badge.svg\" alt=\"Open In Colab\"/></a>"
      ]
    },
    {
      "cell_type": "markdown",
      "metadata": {
        "id": "dq5EKCYpD1i7",
        "colab_type": "text"
      },
      "source": [
        "# Model for classifying the victim's gender using an evolutionary algorithm to select features.\n",
        "\n",
        "* ## Population Management"
      ]
    },
    {
      "cell_type": "markdown",
      "metadata": {
        "id": "9agYml6UJikf",
        "colab_type": "text"
      },
      "source": [
        "## Imports"
      ]
    },
    {
      "cell_type": "code",
      "metadata": {
        "id": "XGCt-S9i9WOH",
        "colab_type": "code",
        "colab": {}
      },
      "source": [
        "import pandas as pd\n",
        "import numpy as np\n",
        "import random\n",
        "from sklearn.tree import DecisionTreeClassifier\n",
        "from sklearn.ensemble import RandomForestClassifier\n",
        "from sklearn.model_selection import train_test_split\n",
        "from sklearn.metrics import accuracy_score\n",
        "from pandas import read_csv \n",
        "import pickle"
      ],
      "execution_count": 8,
      "outputs": []
    },
    {
      "cell_type": "markdown",
      "metadata": {
        "id": "8_KwdnWFJlBP",
        "colab_type": "text"
      },
      "source": [
        "## Scripts"
      ]
    },
    {
      "cell_type": "markdown",
      "metadata": {
        "id": "HG6SuDBTJpQ3",
        "colab_type": "text"
      },
      "source": [
        "### Selection by Tournament"
      ]
    },
    {
      "cell_type": "code",
      "metadata": {
        "id": "u1RmYdjxJNMo",
        "colab_type": "code",
        "colab": {}
      },
      "source": [
        "def tour(fitness):\n",
        "  indiv_current = 1\n",
        "  new_pop = []\n",
        "\n",
        "  indiv = [i[0] for i in fitness]\n",
        "  fit = [i[1] for i in fitness]\n",
        "\n",
        "  while indiv_current <= 50:\n",
        "    x = random.choice(range(len(fitness)))\n",
        "    y = random.choice(range(len(fitness)))\n",
        "    \n",
        "    if fit[x] > fit[y]:\n",
        "      new_pop.append(indiv[x])\n",
        "    else:\n",
        "      new_pop.append(indiv[y])\n",
        "    \n",
        "    indiv_current += 1\n",
        "\n",
        "  return new_pop"
      ],
      "execution_count": 77,
      "outputs": []
    },
    {
      "cell_type": "markdown",
      "metadata": {
        "id": "-1KAiNeEJmnH",
        "colab_type": "text"
      },
      "source": [
        "## Setups"
      ]
    },
    {
      "cell_type": "code",
      "metadata": {
        "id": "GuPOXhrHD7gx",
        "colab_type": "code",
        "colab": {}
      },
      "source": [
        "with open('/content/drive/My Drive/Data Files/fitness.txt', \"rb\") as fit:   \n",
        "  fitness = pickle.load(fit)"
      ],
      "execution_count": 16,
      "outputs": []
    },
    {
      "cell_type": "code",
      "metadata": {
        "id": "Y4km7y56PUtx",
        "colab_type": "code",
        "colab": {}
      },
      "source": [
        "generation = tour(fitness)"
      ],
      "execution_count": 80,
      "outputs": []
    }
  ]
}