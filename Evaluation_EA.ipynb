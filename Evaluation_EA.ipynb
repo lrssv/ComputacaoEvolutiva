{
  "nbformat": 4,
  "nbformat_minor": 0,
  "metadata": {
    "colab": {
      "name": "Evaluation_EA.ipynb",
      "provenance": [],
      "mount_file_id": "1dRcnK6zj9XTLMGXO9kNd7Xd0RzbeFd6N",
      "authorship_tag": "ABX9TyNSiYdap0DyjzbQx2848oUN",
      "include_colab_link": true
    },
    "kernelspec": {
      "name": "python3",
      "display_name": "Python 3"
    }
  },
  "cells": [
    {
      "cell_type": "markdown",
      "metadata": {
        "id": "view-in-github",
        "colab_type": "text"
      },
      "source": [
        "<a href=\"https://colab.research.google.com/github/lrssv/ComputacaoEvolutiva/blob/Part-2/Evaluation_EA.ipynb\" target=\"_parent\"><img src=\"https://colab.research.google.com/assets/colab-badge.svg\" alt=\"Open In Colab\"/></a>"
      ]
    },
    {
      "cell_type": "code",
      "metadata": {
        "id": "YB6G28xb4-Cu"
      },
      "source": [
        "import pandas as pd\n",
        "from tqdm import tqdm\n",
        "import numpy as np\n",
        "import random\n",
        "from sklearn.tree import DecisionTreeClassifier\n",
        "from sklearn.ensemble import RandomForestClassifier\n",
        "from sklearn.model_selection import train_test_split\n",
        "from sklearn.metrics import accuracy_score\n",
        "from pandas import read_csv \n",
        "from sklearn.metrics import mean_squared_error\n",
        "from math import sqrt\n",
        "import math\n",
        "import pickle\n",
        "from collections import defaultdict\n",
        "import matplotlib.pyplot as plt\n",
        "import pickle\n",
        "from collections import defaultdict\n",
        "from matplotlib.pyplot import figure"
      ],
      "execution_count": 1,
      "outputs": []
    },
    {
      "cell_type": "code",
      "metadata": {
        "id": "vkXlAMXK7Ban"
      },
      "source": [
        "# Initial population with 100 individuals\n",
        "tau = 0.5\n",
        "loops = 100\n",
        "tours = 200\n",
        "indiv_size = 19\n",
        "population_size = 50\n",
        "models = [DecisionTreeClassifier(max_depth=10),DecisionTreeClassifier(max_depth=3),DecisionTreeClassifier(max_depth=14),\n",
        "          RandomForestClassifier(max_depth=10),RandomForestClassifier(max_depth=14)]"
      ],
      "execution_count": 2,
      "outputs": []
    },
    {
      "cell_type": "markdown",
      "metadata": {
        "id": "uAsqudqEGJtB"
      },
      "source": [
        "## Scripts"
      ]
    },
    {
      "cell_type": "code",
      "metadata": {
        "id": "2f3gbW8O7NlK"
      },
      "source": [
        "def database(url):\n",
        "  df_encoded = pd.read_csv(url)\n",
        "  df_encoded = df_encoded.drop(columns=['Unnamed: 0'])\n",
        "\n",
        "  return df_encoded"
      ],
      "execution_count": 3,
      "outputs": []
    },
    {
      "cell_type": "code",
      "metadata": {
        "id": "99NKlsJG7Pga"
      },
      "source": [
        "def train_and_test(df):\n",
        "  x = df[df.columns.difference(['Victim Sex'])]\n",
        "  y = df[['Victim Sex']]\n",
        "  \n",
        "  x_train, x_test, y_train, y_test = np.array(train_test_split(x, y, test_size=0.2, stratify=y, random_state=42))\n",
        "\n",
        "  x_train = np.array(x_train)\n",
        "  x_test = np.array(x_test)\n",
        "  y_train = np.ravel(y_train)\n",
        "  y_test = np.array(y_test)\n",
        "\n",
        "  return (x_train,x_test,y_train,y_test)"
      ],
      "execution_count": 4,
      "outputs": []
    },
    {
      "cell_type": "code",
      "metadata": {
        "id": "Ras1Rd7Z6kQC"
      },
      "source": [
        "def generation_fits(children_fitness):  \n",
        "  scores = np.array([i[0] for i in children_fitness])\n",
        "  fitness = []\n",
        "  \n",
        "  for i in scores:\n",
        "    a = tuple(i)\n",
        "    fitness.append(a)\n",
        "  \n",
        "  return fitness"
      ],
      "execution_count": 5,
      "outputs": []
    },
    {
      "cell_type": "code",
      "metadata": {
        "id": "uUXSgEIX8J3I"
      },
      "source": [
        "def dominates(obj1, obj2, sign=[-1, -1]):\n",
        "    indicator = False\n",
        "    for a, b, sign in zip(obj1, obj2, sign):\n",
        "        if a * sign > b * sign:\n",
        "            indicator = True\n",
        "        # if one of the objectives is dominated, then return False\n",
        "        elif a * sign < b * sign:\n",
        "            return False\n",
        "    return indicator"
      ],
      "execution_count": 6,
      "outputs": []
    },
    {
      "cell_type": "code",
      "metadata": {
        "id": "ym2xsTwR8K-J"
      },
      "source": [
        "def sortNondominated(fitness, k=None, first_front_only=False):\n",
        "\n",
        "    if k is None:\n",
        "        k = len(fitness)\n",
        "\n",
        "    map_fit_ind = defaultdict(list)\n",
        "    for i, f_value in enumerate(fitness):  \n",
        "        map_fit_ind[f_value].append(i)\n",
        "    fits = list(map_fit_ind.keys())  \n",
        "\n",
        "    current_front = []\n",
        "    next_front = []\n",
        "    dominating_fits = defaultdict(int)  \n",
        "    dominated_fits = defaultdict(list) \n",
        "\n",
        "    # Rank first Pareto front\n",
        "    for i, fit_i in enumerate(fits):\n",
        "        for fit_j in fits[i + 1:]:\n",
        "            if dominates(fit_i, fit_j):\n",
        "                dominating_fits[fit_j] += 1  \n",
        "                dominated_fits[fit_i].append(fit_j)  \n",
        "            elif dominates(fit_j, fit_i):  \n",
        "                dominating_fits[fit_i] += 1\n",
        "                dominated_fits[fit_j].append(fit_i)\n",
        "        if dominating_fits[fit_i] == 0: \n",
        "            current_front.append(fit_i)\n",
        "\n",
        "    fronts = [[]]  # The first front\n",
        "    for fit in current_front:\n",
        "        fronts[-1].extend(map_fit_ind[fit])\n",
        "    pareto_sorted = len(fronts[-1])\n",
        "\n",
        "    # Rank the next front until all individuals are sorted or\n",
        "    if not first_front_only:  # first front only\n",
        "        N = min(len(fitness), k)\n",
        "        while pareto_sorted < N:\n",
        "            fronts.append([])\n",
        "            for fit_p in current_front:\n",
        "                for fit_d in dominated_fits[fit_p]: \n",
        "                    dominating_fits[fit_d] -= 1  \n",
        "                    if dominating_fits[fit_d] == 0:  \n",
        "                        next_front.append(fit_d)\n",
        "                        pareto_sorted += len(map_fit_ind[fit_d]) \n",
        "                        fronts[-1].extend(map_fit_ind[fit_d])\n",
        "            current_front = next_front\n",
        "            next_front = []\n",
        "\n",
        "    return fronts"
      ],
      "execution_count": 7,
      "outputs": []
    },
    {
      "cell_type": "code",
      "metadata": {
        "id": "E2I-r2kA6T35"
      },
      "source": [
        "def myfitness(result_50,models,x_train,x_test,y_train,y_test):\n",
        "  fit_value = []\n",
        "  result = []\n",
        "\n",
        "  for p in result_50:\n",
        "    model = models[p[0]]\n",
        "    ind = [i==1 for i in p[2:]] \n",
        "    model.fit(x_train[:,ind],y_train)\n",
        "    y_pred = model.predict(x_test[:,ind])\n",
        "    rmse = sqrt(mean_squared_error(y_test, y_pred)) \n",
        "    fit_value.append(rmse)\n",
        "    fit_value.append(np.sum(p[2:]))\n",
        "\n",
        "    result.append([fit_value,p])\n",
        "    fit_value = []\n",
        "\n",
        "  return result"
      ],
      "execution_count": 13,
      "outputs": []
    },
    {
      "cell_type": "code",
      "metadata": {
        "id": "lIYK8mpwDi4x"
      },
      "source": [
        "def evaluation(genetic_alg,models,x_train,x_test,y_train,y_test):\n",
        "  indiv = genetic_alg[0]\n",
        "  best_acc = genetic_alg[0][0]\n",
        "\n",
        "  model = models[indiv[1][0]]\n",
        "  ind = [i==1 for i in indiv[1][2:]] \n",
        "  model.fit(x_train[:,ind],y_train)\n",
        "  y_pred = model.predict(x_test[:,ind])\n",
        "  accuracy = accuracy_score(y_test,y_pred)\n",
        "  \n",
        "  print('--------------- RESULTADOS --------------- ')\n",
        "  print('Melhor individuo: {} \\nFitness: {} \\nAcurácia: {}'.format(indiv[1],best_acc,accuracy))"
      ],
      "execution_count": 9,
      "outputs": []
    },
    {
      "cell_type": "code",
      "metadata": {
        "id": "kUKKwWu7Adss"
      },
      "source": [
        "def identify_pareto(scores):\n",
        "    # Count number of items\n",
        "    population_size = scores.shape[0]\n",
        "    # Create a NumPy index for scores on the pareto front (zero indexed)\n",
        "    population_ids = np.arange(population_size)\n",
        "    # Create a starting list of items on the Pareto front\n",
        "    # All items start off as being labelled as on the Parteo front\n",
        "    pareto_front = np.ones(population_size, dtype=bool)\n",
        "    # Loop through each item. This will then be compared with all other items\n",
        "    for i in range(population_size):\n",
        "        # Loop through all other items\n",
        "        for j in range(population_size):\n",
        "            # Check if our 'i' point is dominated by out 'j' point\n",
        "            if all(scores[j] <= scores[i]) and any(scores[j] < scores[i]):\n",
        "              # j dominates i. Label 'i' point as not on Pareto front\n",
        "              pareto_front[i] = 0\n",
        "              # Stop further comparisons with 'i' (no more comparisons needed)\n",
        "              break\n",
        "\n",
        "    # Return ids of scenarios on pareto front\n",
        "    return population_ids[pareto_front]"
      ],
      "execution_count": 10,
      "outputs": []
    },
    {
      "cell_type": "code",
      "metadata": {
        "id": "N32tBp997JUj"
      },
      "source": [
        "# Original Data\n",
        "df = database('/content/drive/My Drive/Data Files/df_model_per_encoded')"
      ],
      "execution_count": 11,
      "outputs": []
    },
    {
      "cell_type": "code",
      "metadata": {
        "id": "SZUIm6k47Cug"
      },
      "source": [
        "#Train and Test\n",
        "x_train,x_test,y_train,y_test = train_and_test(df)"
      ],
      "execution_count": 12,
      "outputs": []
    },
    {
      "cell_type": "markdown",
      "metadata": {
        "id": "9Z4wAqblAL6d"
      },
      "source": [
        "## Populaçao inicial"
      ]
    },
    {
      "cell_type": "code",
      "metadata": {
        "id": "uimDWcndALnx"
      },
      "source": [
        "with open(\"/content/drive/My Drive/Data Files/initial_population.txt\", \"rb\") as fp:   \n",
        "  population = pickle.load(fp)"
      ],
      "execution_count": 105,
      "outputs": []
    },
    {
      "cell_type": "code",
      "metadata": {
        "id": "XMSyHIA8GgO5"
      },
      "source": [
        "result = myfitness(population,models,x_train,x_test,y_train,y_test)"
      ],
      "execution_count": 106,
      "outputs": []
    },
    {
      "cell_type": "code",
      "metadata": {
        "id": "eXLB90IyGr_r"
      },
      "source": [
        "fits = generation_fits(result)"
      ],
      "execution_count": 107,
      "outputs": []
    },
    {
      "cell_type": "code",
      "metadata": {
        "id": "OVUy4gc3OH3-"
      },
      "source": [
        "pareto = sortNondominated(fits)"
      ],
      "execution_count": 108,
      "outputs": []
    },
    {
      "cell_type": "code",
      "metadata": {
        "id": "Kdd5DcT_rpsW",
        "outputId": "b810ce24-2f83-47ab-99d1-0f20cfd30a6a",
        "colab": {
          "base_uri": "https://localhost:8080/",
          "height": 309
        }
      },
      "source": [
        "a = np.array(result)\n",
        "front = a[pareto[0]]\n",
        "\n",
        "indiv = [p[1] for p in front]\n",
        "acc = [p[0] for p in front]\n",
        "\n",
        "print('--------------- RESULTADOS --------------- ')\n",
        "p = 0\n",
        "for i in indiv:\n",
        "  obj = acc[p] \n",
        "  model = models[indiv[1][0]]\n",
        "  ind = [i==1 for i in indiv[1][2:]] \n",
        "  model.fit(x_train[:,ind],y_train)\n",
        "  y_pred = model.predict(x_test[:,ind])\n",
        "  accuracy = accuracy_score(y_test,y_pred)\n",
        "  p += 1\n",
        "    \n",
        "  print('Individuo: {} \\n Objetivos: {} \\nAcurácia: {}'.format(i,obj,accuracy))"
      ],
      "execution_count": 148,
      "outputs": [
        {
          "output_type": "stream",
          "text": [
            "--------------- RESULTADOS --------------- \n",
            "Individuo: [4, [0.10270215028581048, 0.5322054116627972], False, False, False, True, False, False, True, False, False, False, True, False, False, False, True, False, True] \n",
            " Objetivos: [0.3767444668797538, 5] \n",
            "Acurácia: 0.8621359375367097\n",
            "Individuo: [0, [0.3951971267074766, 0.6135041318861733], False, True, True, False, False, True, False, False, False, False, True, False, False, True, False, True, True] \n",
            " Objetivos: [0.37163781755812386, 7] \n",
            "Acurácia: 0.862096780509198\n",
            "Individuo: [0, [0.005493292022110352, 0.5406499434736692], True, False, True, False, False, False, False, False, False, True, True, False, False, False, True, True, False] \n",
            " Objetivos: [0.3726584411670999, 6] \n",
            "Acurácia: 0.8621281061312074\n",
            "Individuo: [0, [0.08380602154879474, 0.9743908668885592], True, False, False, True, True, True, True, True, True, False, True, True, False, True, False, True, False] \n",
            " Objetivos: [0.36989523588643086, 11] \n",
            "Acurácia: 0.8621281061312074\n",
            "Individuo: [0, [0.14006338419308323, 0.6891863888449403], False, True, True, True, True, False, True, False, True, True, True, True, False, True, True, True, False] \n",
            " Objetivos: [0.36982112661793937, 12] \n",
            "Acurácia: 0.8621124433202026\n"
          ],
          "name": "stdout"
        }
      ]
    },
    {
      "cell_type": "code",
      "metadata": {
        "id": "9kUw2YZoDz3K"
      },
      "source": [
        "scores = np.array([i[0] for i in result])"
      ],
      "execution_count": 109,
      "outputs": []
    },
    {
      "cell_type": "code",
      "metadata": {
        "id": "zPeXlWwzanjN"
      },
      "source": [
        "front = scores[pareto[0]]"
      ],
      "execution_count": 110,
      "outputs": []
    },
    {
      "cell_type": "code",
      "metadata": {
        "id": "6qlwfuJ5AbwT",
        "outputId": "13b1c626-1078-42ea-82dd-fe5cfc7696e1",
        "colab": {
          "base_uri": "https://localhost:8080/",
          "height": 306
        }
      },
      "source": [
        "figure(num=None, figsize=(6, 4), dpi=80)\n",
        "\n",
        "x_all = scores[:, 0]\n",
        "y_all = scores[:, 1]\n",
        "plt.scatter(x_all, y_all, color='g')\n",
        "plt.xlabel('Objetivo A')\n",
        "plt.ylabel('Objetivo B')\n",
        "\n",
        "front = scores[pareto[0]]\n",
        "x_pareto = front[:,0]\n",
        "y_pareto = front[:,1]\n",
        "\n",
        "plt.plot(x_pareto,y_pareto)\n",
        "\n",
        "plt.show()"
      ],
      "execution_count": 20,
      "outputs": [
        {
          "output_type": "display_data",
          "data": {
            "image/png": "[encoded data removed]",
            "text/plain": [
              "<Figure size 480x320 with 1 Axes>"
            ]
          },
          "metadata": {
            "tags": [],
            "needs_background": "light"
          }
        }
      ]
    },
    {
      "cell_type": "code",
      "metadata": {
        "id": "NUI3SgslGdYp",
        "outputId": "8981fe8c-5c77-44f0-d015-a4dda1c2c525",
        "colab": {
          "base_uri": "https://localhost:8080/",
          "height": 306
        }
      },
      "source": [
        "figure(num=None, figsize=(6, 4), dpi=80)\n",
        "\n",
        "x_all = scores[:, 0]\n",
        "y_all = scores[:, 1]\n",
        "plt.xlabel('Objetivo A')\n",
        "plt.ylabel('Objetivo B')\n",
        "\n",
        "for i in pareto:\n",
        "  front = scores[i]\n",
        "  x_pareto = front[:,0]\n",
        "  y_pareto = front[:,1]\n",
        "  plt.scatter(x_pareto, y_pareto)\n",
        "  plt.plot(x_pareto,y_pareto)\n",
        "\n",
        "plt.show()"
      ],
      "execution_count": 21,
      "outputs": [
        {
          "output_type": "display_data",
          "data": {
            "image/png": "[encoded data removed]",
            "text/plain": [
              "<Figure size 480x320 with 1 Axes>"
            ]
          },
          "metadata": {
            "tags": [],
            "needs_background": "light"
          }
        }
      ]
    },
    {
      "cell_type": "markdown",
      "metadata": {
        "id": "WkhRLkglGHbk"
      },
      "source": [
        "## Resultado com a população de 50 loops\n",
        "\n",
        "---\n",
        "\n"
      ]
    },
    {
      "cell_type": "markdown",
      "metadata": {
        "id": "8EScGvOT7ofM"
      },
      "source": [
        "### Geração final"
      ]
    },
    {
      "cell_type": "code",
      "metadata": {
        "id": "l1_ESyJP5Ump"
      },
      "source": [
        "with open(\"/content/drive/My Drive/Data Files/results.txt\", \"rb\") as fp:   \n",
        "  result_50 = pickle.load(fp)"
      ],
      "execution_count": 22,
      "outputs": []
    },
    {
      "cell_type": "code",
      "metadata": {
        "id": "1kGsVjameMl5"
      },
      "source": [
        "generation,fronts = result_50"
      ],
      "execution_count": 23,
      "outputs": []
    },
    {
      "cell_type": "code",
      "metadata": {
        "id": "7dRqtX3w8ZK4"
      },
      "source": [
        "result = fitness(generation,models,x_train,x_test,y_train,y_test)"
      ],
      "execution_count": 24,
      "outputs": []
    },
    {
      "cell_type": "code",
      "metadata": {
        "id": "jss6IqnY9TXQ"
      },
      "source": [
        "fits = generation_fits(result)"
      ],
      "execution_count": 25,
      "outputs": []
    },
    {
      "cell_type": "code",
      "metadata": {
        "id": "9tYY7WDx81SB"
      },
      "source": [
        "scores = np.array([i[0] for i in result])"
      ],
      "execution_count": 26,
      "outputs": []
    },
    {
      "cell_type": "code",
      "metadata": {
        "id": "RWFuMgJFDuoI",
        "outputId": "048f2466-03c2-4814-e621-00990855cc0a",
        "colab": {
          "base_uri": "https://localhost:8080/",
          "height": 119
        }
      },
      "source": [
        "acc = evaluation(result,models,x_train,x_test,y_train,y_test)"
      ],
      "execution_count": 27,
      "outputs": [
        {
          "output_type": "stream",
          "text": [
            "--------------- RESULTADOS --------------- \n",
            "Melhor individuo: [0 list([0.8218087930813753, 0.8494314266042798]) False False False False\n",
            " False True False False False False True False False False False True\n",
            " False] \n",
            "Fitness: [0.37171156462757754, 3] \n",
            "Acurácia: 0.8620654548871886\n"
          ],
          "name": "stdout"
        }
      ]
    },
    {
      "cell_type": "code",
      "metadata": {
        "id": "fIKKA0b3DCiY",
        "outputId": "cbb0c97d-3605-4ba5-b698-d5edba9b6ed1",
        "colab": {
          "base_uri": "https://localhost:8080/",
          "height": 279
        }
      },
      "source": [
        "x = scores[:, 0]\n",
        "y = scores[:, 1]\n",
        "\n",
        "plt.scatter(x, y, color='g')\n",
        "plt.xlabel('Objetivo A')\n",
        "plt.ylabel('Objetivo B')\n",
        "plt.show()"
      ],
      "execution_count": 28,
      "outputs": [
        {
          "output_type": "display_data",
          "data": {
            "image/png": "[encoded data removed]",
            "text/plain": [
              "<Figure size 432x288 with 1 Axes>"
            ]
          },
          "metadata": {
            "tags": [],
            "needs_background": "light"
          }
        }
      ]
    },
    {
      "cell_type": "markdown",
      "metadata": {
        "id": "p_TQvvgWSlsh"
      },
      "source": [
        "## Resultado com 100 loops"
      ]
    },
    {
      "cell_type": "code",
      "metadata": {
        "id": "CVXCWQjafUI_"
      },
      "source": [
        "with open(\"/content/drive/My Drive/Data Files/results100.txt\", \"rb\") as fp:   \n",
        "  result_100 = pickle.load(fp)"
      ],
      "execution_count": 98,
      "outputs": []
    },
    {
      "cell_type": "code",
      "metadata": {
        "id": "sBgL9IYrfbiI"
      },
      "source": [
        "generation100,fronts100 = result_100"
      ],
      "execution_count": 99,
      "outputs": []
    },
    {
      "cell_type": "code",
      "metadata": {
        "id": "dkQjcdVkffG8"
      },
      "source": [
        "result = fitness(generation100,models,x_train,x_test,y_train,y_test)"
      ],
      "execution_count": 100,
      "outputs": []
    },
    {
      "cell_type": "code",
      "metadata": {
        "id": "pKetN55jfit7"
      },
      "source": [
        "fits = generation_fits(result)"
      ],
      "execution_count": 101,
      "outputs": []
    },
    {
      "cell_type": "code",
      "metadata": {
        "id": "c1tjmet1fkY-"
      },
      "source": [
        "scores = np.array([i[0] for i in result])"
      ],
      "execution_count": 102,
      "outputs": []
    },
    {
      "cell_type": "code",
      "metadata": {
        "id": "jdwQrlsTfmWf",
        "outputId": "4d90e9a3-7c0d-4b3f-c9c4-5346f4b6b208",
        "colab": {
          "base_uri": "https://localhost:8080/",
          "height": 119
        }
      },
      "source": [
        "acc = evaluation(result,models,x_train,x_test,y_train,y_test)"
      ],
      "execution_count": 103,
      "outputs": [
        {
          "output_type": "stream",
          "text": [
            "--------------- RESULTADOS --------------- \n",
            "Melhor individuo: [0 list([0.8073305956541307, 0.8073508931069016]) False False False True\n",
            " False False False False False False True False False False False False\n",
            " False] \n",
            "Fitness: [0.37557858819193524, 2] \n",
            "Acurácia: 0.8591286778238091\n"
          ],
          "name": "stdout"
        }
      ]
    },
    {
      "cell_type": "code",
      "metadata": {
        "id": "_atAmRONfn3F",
        "outputId": "82b59077-0ff6-44f3-d19b-b26045cf0236",
        "colab": {
          "base_uri": "https://localhost:8080/",
          "height": 279
        }
      },
      "source": [
        "x = scores[:, 0]\n",
        "y = scores[:, 1]\n",
        "\n",
        "plt.scatter(x, y, color='g')\n",
        "plt.xlabel('Objetivo A')\n",
        "plt.ylabel('Objetivo B')\n",
        "plt.show()"
      ],
      "execution_count": 104,
      "outputs": [
        {
          "output_type": "display_data",
          "data": {
            "image/png": "[encoded data removed]",
            "text/plain": [
              "<Figure size 432x288 with 1 Axes>"
            ]
          },
          "metadata": {
            "tags": [],
            "needs_background": "light"
          }
        }
      ]
    }
  ]
}