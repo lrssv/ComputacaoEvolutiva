{
  "nbformat": 4,
  "nbformat_minor": 0,
  "metadata": {
    "colab": {
      "name": "Main.ipynb",
      "provenance": [],
      "collapsed_sections": [
        "DNo-iUjvV342",
        "CufvkPo-CdbH",
        "hdNvN29qo8v_",
        "tT5wDx4H7RTj",
        "Y88gYCWxQb_I",
        "KqY3PNuH7-EE",
        "w7c6lEFhmhc8",
        "7QOtxNUpB9Uh",
        "jDs-V7e7VKu5"
      ],
      "mount_file_id": "1Kb4yh0_aygQkCaeVCGU34xRg-1yKAGjf",
      "authorship_tag": "ABX9TyMnvaJKy68mfmsmZQPRI9Kh",
      "include_colab_link": true
    },
    "kernelspec": {
      "name": "python3",
      "display_name": "Python 3"
    }
  },
  "cells": [
    {
      "cell_type": "markdown",
      "metadata": {
        "id": "view-in-github",
        "colab_type": "text"
      },
      "source": [
        "<a href=\"https://colab.research.google.com/github/lrssv/ComputacaoEvolutiva/blob/master/Main.ipynb\" target=\"_parent\"><img src=\"https://colab.research.google.com/assets/colab-badge.svg\" alt=\"Open In Colab\"/></a>"
      ]
    },
    {
      "cell_type": "markdown",
      "metadata": {
        "id": "5LW9X4r360xs",
        "colab_type": "text"
      },
      "source": [
        "# Model for classifying the Perpetrator's gender using an evolutionary algorithm to select features.\n",
        "\n",
        "* ## Main"
      ]
    },
    {
      "cell_type": "markdown",
      "metadata": {
        "id": "DNo-iUjvV342",
        "colab_type": "text"
      },
      "source": [
        "## Imports"
      ]
    },
    {
      "cell_type": "code",
      "metadata": {
        "id": "-rWPHrCI69Bi",
        "colab_type": "code",
        "colab": {}
      },
      "source": [
        "import pandas as pd\n",
        "import numpy as np\n",
        "import random\n",
        "from sklearn.tree import DecisionTreeClassifier\n",
        "from sklearn.ensemble import RandomForestClassifier\n",
        "from sklearn.model_selection import train_test_split\n",
        "from sklearn.metrics import accuracy_score\n",
        "from pandas import read_csv \n",
        "from sklearn.metrics import mean_squared_error\n",
        "from math import sqrt\n",
        "import math\n",
        "import pickle"
      ],
      "execution_count": 31,
      "outputs": []
    },
    {
      "cell_type": "markdown",
      "metadata": {
        "id": "xQJUt2Az7a8j",
        "colab_type": "text"
      },
      "source": [
        "## Scripts"
      ]
    },
    {
      "cell_type": "markdown",
      "metadata": {
        "id": "CufvkPo-CdbH",
        "colab_type": "text"
      },
      "source": [
        "### Original Dataset"
      ]
    },
    {
      "cell_type": "code",
      "metadata": {
        "id": "m3EGQF_Q7Ps7",
        "colab_type": "code",
        "colab": {}
      },
      "source": [
        "def database(url):\n",
        "  df_encoded = pd.read_csv(url)\n",
        "  df_encoded = df_encoded.drop(columns=['Unnamed: 0'])\n",
        "\n",
        "  return df_encoded"
      ],
      "execution_count": 2,
      "outputs": []
    },
    {
      "cell_type": "markdown",
      "metadata": {
        "id": "hdNvN29qo8v_",
        "colab_type": "text"
      },
      "source": [
        "### Train and Test"
      ]
    },
    {
      "cell_type": "code",
      "metadata": {
        "id": "r0mZCMv5o7gu",
        "colab_type": "code",
        "colab": {}
      },
      "source": [
        "def train_and_test(df):\n",
        "  x = df[df.columns.difference(['Victim Sex'])]\n",
        "  y = df[['Victim Sex']]\n",
        "  \n",
        "  x_train, x_test, y_train, y_test = np.array(train_test_split(x, y, test_size=0.2, stratify=y, random_state=42))\n",
        "\n",
        "  x_train = np.array(x_train)\n",
        "  x_test = np.array(x_test)\n",
        "  y_train = np.ravel(y_train)\n",
        "  y_test = np.array(y_test)\n",
        "\n",
        "  return (x_train,x_test,y_train,y_test)"
      ],
      "execution_count": 3,
      "outputs": []
    },
    {
      "cell_type": "markdown",
      "metadata": {
        "id": "tT5wDx4H7RTj",
        "colab_type": "text"
      },
      "source": [
        "### Initial Population"
      ]
    },
    {
      "cell_type": "code",
      "metadata": {
        "id": "wt5X9V0o7W-j",
        "colab_type": "code",
        "colab": {}
      },
      "source": [
        "def population(ind_size,pop_size,models):\n",
        "  ind = []\n",
        "  pop = []\n",
        "\n",
        "  for p in range(pop_size):\n",
        "    ind = [random.choice([True,False]) for i in range(ind_size)]\n",
        "    ind[0] = random.choice(range(0,len(models)-1))\n",
        "    pop.append(ind)\n",
        "    ind = []\n",
        "\n",
        "  return pop"
      ],
      "execution_count": 4,
      "outputs": []
    },
    {
      "cell_type": "markdown",
      "metadata": {
        "id": "9XQi7ML58LaT",
        "colab_type": "text"
      },
      "source": [
        "### Fitness"
      ]
    },
    {
      "cell_type": "code",
      "metadata": {
        "id": "jnfi8htT8MxD",
        "colab_type": "code",
        "colab": {}
      },
      "source": [
        "def fitness(population,x_train,x_test,y_train,y_test,models):\n",
        "  result = []\n",
        "\n",
        "  for p in population:\n",
        "    model = models[p[1]]\n",
        "    ind = [i==1 for i in p[1:]] \n",
        "    if any(ind) == False:\n",
        "      fit_value = math.inf  \n",
        "    else: \n",
        "      model.fit(x_train[:,ind],y_train)\n",
        "      y_pred = model.predict(x_test[:,ind])\n",
        "      rmse = sqrt(mean_squared_error(y_test, y_pred))\n",
        "      fit_value = 20*rmse + np.sum(p[1:])\n",
        "\n",
        "    result.append([fit_value,p])\n",
        "\n",
        "  return result"
      ],
      "execution_count": 5,
      "outputs": []
    },
    {
      "cell_type": "markdown",
      "metadata": {
        "id": "Y88gYCWxQb_I",
        "colab_type": "text"
      },
      "source": [
        "### Tournament Selection"
      ]
    },
    {
      "cell_type": "code",
      "metadata": {
        "id": "i_Z3jvPtQbMk",
        "colab_type": "code",
        "colab": {}
      },
      "source": [
        "def tour(fitness,tours):\n",
        "  indiv_current = 1\n",
        "  new_pop = []\n",
        "\n",
        "  while indiv_current <= tours:\n",
        "    indiv1 = random.choice(fitness) \n",
        "    indiv2 = random.choice(fitness)\n",
        "    \n",
        "    if indiv1[0] < indiv2[0]:\n",
        "      new_pop.append(indiv1)\n",
        "    else:\n",
        "      new_pop.append(indiv2)\n",
        "    \n",
        "    indiv_current += 1\n",
        "\n",
        "  return new_pop"
      ],
      "execution_count": 6,
      "outputs": []
    },
    {
      "cell_type": "markdown",
      "metadata": {
        "id": "KqY3PNuH7-EE",
        "colab_type": "text"
      },
      "source": [
        "### Mutation and Crossover"
      ]
    },
    {
      "cell_type": "code",
      "metadata": {
        "id": "WTh6Kvwg8Akt",
        "colab_type": "code",
        "colab": {}
      },
      "source": [
        "def mutation_and_crossover(gen):\n",
        "  children = []\n",
        "  prop_mutation = 0.1 #prob of mutation\n",
        "\n",
        "  pop = [i[1] for i in gen]\n",
        "\n",
        "  for p in gen:\n",
        "    parent1 = random.choice(pop) \n",
        "    parent2 = random.choice(pop)\n",
        "\n",
        "    rand = random.uniform(0,1) #random value to compare with prob_mutation\n",
        "    n = random.choice(range(0,len(parent1))) #gene that gona be mutaded\n",
        "    \n",
        "    if rand < prop_mutation:\n",
        "      #mutation\n",
        "      parent1[0] = random.choice(range(4)) #mute the model\n",
        "      \n",
        "      if parent1[n] == True:\n",
        "        parent1[n] = False \n",
        "        child = parent1\n",
        "      else:\n",
        "        parent1[n] = True \n",
        "        child = parent1\n",
        "      \n",
        "      children.append(child)\n",
        "    \n",
        "    else:\n",
        "      #crossover\n",
        "      chromosome_length = len(parent1) #length of chromosome\n",
        "      crossover_point = random.randint(1,chromosome_length-1) #point of crossover\n",
        "      child1 = parent1[1:crossover_point] + parent2[crossover_point:]\n",
        "      child2 = parent2[1:crossover_point] + parent1[crossover_point:]\n",
        "\n",
        "      child1.insert(0,parent2[0]) #model+child1\n",
        "      child2.insert(0,parent1[0]) #model+child2\n",
        "\n",
        "      #print(child1)\n",
        "      children.append(child1)\n",
        "      children.append(child2)\n",
        "  \n",
        "  return children      "
      ],
      "execution_count": 7,
      "outputs": []
    },
    {
      "cell_type": "markdown",
      "metadata": {
        "id": "w7c6lEFhmhc8",
        "colab_type": "text"
      },
      "source": [
        "### Survivors"
      ]
    },
    {
      "cell_type": "code",
      "metadata": {
        "id": "QKgYrf02mgTt",
        "colab_type": "code",
        "colab": {}
      },
      "source": [
        "def survivors(generation,population):\n",
        "  count1,count2 = 0,0\n",
        "  surv = []\n",
        "\n",
        "  while count1 < 95:\n",
        "    child1 = random.choice(generation) \n",
        "    child2 = random.choice(generation)\n",
        "\n",
        "    if child1[1] < child2[1]:\n",
        "      surv.append(child1)\n",
        "    else:\n",
        "      surv.append(child2)  \n",
        "    \n",
        "    count1 += 1\n",
        "\n",
        "  while count2 < 5:\n",
        "    parent1 = random.choice(population) \n",
        "    parent2 = random.choice(population)\n",
        "      \n",
        "    if parent1[1] < parent2[1]:\n",
        "      surv.append(parent1)\n",
        "    else:\n",
        "      surv.append(parent2)\n",
        "    count2 += 1\n",
        "        \n",
        "  return surv"
      ],
      "execution_count": 8,
      "outputs": []
    },
    {
      "cell_type": "markdown",
      "metadata": {
        "id": "7QOtxNUpB9Uh",
        "colab_type": "text"
      },
      "source": [
        "### Evaluation"
      ]
    },
    {
      "cell_type": "code",
      "metadata": {
        "id": "LENziSsQNSiN",
        "colab_type": "code",
        "colab": {}
      },
      "source": [
        "def evaluation(genetic_alg,models,x_train,x_test,y_train,y_test):\n",
        "  indiv = [i[1] for i in genetic_alg]\n",
        "  acc = [i[0] for i in genetic_alg]\n",
        "    \n",
        "  best_acc = min(acc) \n",
        "  acc_index = acc.index(best_acc)\n",
        "  best_indiv = indiv[acc_index]\n",
        "\n",
        "  model = models[best_indiv[0]]\n",
        "  ind = [i==1 for i in best_indiv[1:]] \n",
        "  model.fit(x_train[:,ind],y_train)\n",
        "  y_pred = model.predict(x_test[:,ind])\n",
        "  accuracy = accuracy_score(y_test,y_pred)\n",
        "  \n",
        "  print('--------------- RESULTADOS --------------- ')\n",
        "  print('Melhor individuo: {} \\nFitness: {} \\nAcurácia: {}'.format(best_indiv,best_acc,accuracy))"
      ],
      "execution_count": 9,
      "outputs": []
    },
    {
      "cell_type": "markdown",
      "metadata": {
        "id": "nnYCQpdPqHfT",
        "colab_type": "text"
      },
      "source": [
        "### Best individual in each population"
      ]
    },
    {
      "cell_type": "code",
      "metadata": {
        "id": "XvBPMXLNqFDj",
        "colab_type": "code",
        "colab": {}
      },
      "source": [
        "def best(population):\n",
        "  indiv = [i for i in population]\n",
        "  fit = [i[0] for i in population]\n",
        "      \n",
        "  best_acc = min(fit) \n",
        "  acc_index = fit.index(best_acc)\n",
        "  best_indiv = indiv[acc_index]\n",
        "\n",
        "  print(\"Melhor individuo: {}\".format(best_indiv))\n",
        "  return best_indiv"
      ],
      "execution_count": 20,
      "outputs": []
    },
    {
      "cell_type": "markdown",
      "metadata": {
        "id": "cxXI4iVw7f1c",
        "colab_type": "text"
      },
      "source": [
        "##Setups"
      ]
    },
    {
      "cell_type": "markdown",
      "metadata": {
        "id": "jDs-V7e7VKu5",
        "colab_type": "text"
      },
      "source": [
        "### Initial Conditions "
      ]
    },
    {
      "cell_type": "code",
      "metadata": {
        "id": "5vtPNIR88Gfw",
        "colab_type": "code",
        "colab": {}
      },
      "source": [
        "# Initial population with 100 individuals\n",
        "indiv_size = 18\n",
        "population_size = 100\n",
        "models = [DecisionTreeClassifier(max_depth=10),DecisionTreeClassifier(max_depth=3),DecisionTreeClassifier(max_depth=14),\n",
        "          RandomForestClassifier(max_depth=10),RandomForestClassifier(max_depth=14)]"
      ],
      "execution_count": 11,
      "outputs": []
    },
    {
      "cell_type": "code",
      "metadata": {
        "id": "xLqA-CyB7Zj6",
        "colab_type": "code",
        "colab": {}
      },
      "source": [
        "# Original Data\n",
        "df = database('/content/drive/My Drive/Data Files/df_model_per_encoded')"
      ],
      "execution_count": 12,
      "outputs": []
    },
    {
      "cell_type": "code",
      "metadata": {
        "id": "rr3We1-FpUrx",
        "colab_type": "code",
        "colab": {}
      },
      "source": [
        "#Train and Test\n",
        "x_train,x_test,y_train,y_test = train_and_test(df)"
      ],
      "execution_count": 13,
      "outputs": []
    },
    {
      "cell_type": "markdown",
      "metadata": {
        "id": "wShetnDnVWml",
        "colab_type": "text"
      },
      "source": [
        "### Loop"
      ]
    },
    {
      "cell_type": "code",
      "metadata": {
        "id": "ZMMdQMLx7mye",
        "colab_type": "code",
        "colab": {}
      },
      "source": [
        "def loop(int,tours,x_train,x_test,y_train,y_test,models,indiv_size,population_size):\n",
        "  bests = []\n",
        "  \n",
        "  #Step 1\n",
        "  first_population = population(indiv_size,population_size,models)\n",
        "  print(\"ok1\")\n",
        "\n",
        "  #Step 2\n",
        "  gen_fit = fitness(first_population,x_train,x_test,y_train,y_test,models)\n",
        "  first_best_ind = best(gen_fit)\n",
        "  bests.append(first_best_ind)\n",
        "  print(\"ok2\")\n",
        "\n",
        "  for i in range(int):  \n",
        "    #Step 3\n",
        "    tourneament = tour(gen_fit,tours)\n",
        "    print(\"ok3\")\n",
        "\n",
        "    #Step 4\n",
        "    children = mutation_and_crossover(tourneament)\n",
        "    print(\"ok4\")\n",
        "    \n",
        "    #Step 5\n",
        "    children_fitness = fitness(children,x_train,x_test,y_train,y_test,models)\n",
        "    print(\"ok5\")\n",
        "\n",
        "    #Step 6\n",
        "    survs = survivors(children_fitness,tourneament)\n",
        "    print(\"ok6\")\n",
        "\n",
        "    #Step 7\n",
        "    best_ind = best(survs)\n",
        "    bests.append(best_ind) #bests indivuals in each generation\n",
        "    print(\"ok7\")\n",
        "    \n",
        "    gen_fit = survs\n",
        "\n",
        "  return survs,bests"
      ],
      "execution_count": 17,
      "outputs": []
    },
    {
      "cell_type": "markdown",
      "metadata": {
        "id": "Wrx3IfUGLlpl",
        "colab_type": "text"
      },
      "source": [
        "## Result of the Genetic Algorithm"
      ]
    },
    {
      "cell_type": "code",
      "metadata": {
        "id": "urTY1CD4QsaB",
        "colab_type": "code",
        "colab": {}
      },
      "source": [
        "loops = 100\n",
        "tours = 200"
      ],
      "execution_count": 15,
      "outputs": []
    },
    {
      "cell_type": "code",
      "metadata": {
        "id": "Xfx4pqDJ9cw-",
        "colab_type": "code",
        "colab": {}
      },
      "source": [
        "genetic_alg = loop(loops,tours,x_train,x_test,y_train,y_test,models,indiv_size,population_size)"
      ],
      "execution_count": null,
      "outputs": []
    },
    {
      "cell_type": "code",
      "metadata": {
        "id": "CbVKKjb7PMY4",
        "colab_type": "code",
        "colab": {}
      },
      "source": [
        "survives,bests_ind = genetic_alg "
      ],
      "execution_count": 25,
      "outputs": []
    },
    {
      "cell_type": "code",
      "metadata": {
        "id": "EptcKI_OPbFK",
        "colab_type": "code",
        "colab": {
          "base_uri": "https://localhost:8080/",
          "height": 419
        },
        "outputId": "107d2593-e5a4-4e5b-ae44-bfe035b59d2b"
      },
      "source": [
        "pd.DataFrame(bests_ind)"
      ],
      "execution_count": 26,
      "outputs": [
        {
          "output_type": "execute_result",
          "data": {
            "text/html": [
              "<div>\n",
              "<style scoped>\n",
              "    .dataframe tbody tr th:only-of-type {\n",
              "        vertical-align: middle;\n",
              "    }\n",
              "\n",
              "    .dataframe tbody tr th {\n",
              "        vertical-align: top;\n",
              "    }\n",
              "\n",
              "    .dataframe thead th {\n",
              "        text-align: right;\n",
              "    }\n",
              "</style>\n",
              "<table border=\"1\" class=\"dataframe\">\n",
              "  <thead>\n",
              "    <tr style=\"text-align: right;\">\n",
              "      <th></th>\n",
              "      <th>0</th>\n",
              "      <th>1</th>\n",
              "    </tr>\n",
              "  </thead>\n",
              "  <tbody>\n",
              "    <tr>\n",
              "      <th>0</th>\n",
              "      <td>12.447710</td>\n",
              "      <td>[3, False, False, False, False, False, False, ...</td>\n",
              "    </tr>\n",
              "    <tr>\n",
              "      <th>1</th>\n",
              "      <td>12.459891</td>\n",
              "      <td>[3, False, False, False, False, False, False, ...</td>\n",
              "    </tr>\n",
              "    <tr>\n",
              "      <th>2</th>\n",
              "      <td>12.459681</td>\n",
              "      <td>[0, False, False, False, False, False, False, ...</td>\n",
              "    </tr>\n",
              "    <tr>\n",
              "      <th>3</th>\n",
              "      <td>11.469123</td>\n",
              "      <td>[0, False, False, False, True, False, False, F...</td>\n",
              "    </tr>\n",
              "    <tr>\n",
              "      <th>4</th>\n",
              "      <td>10.510946</td>\n",
              "      <td>[3, False, False, False, False, False, False, ...</td>\n",
              "    </tr>\n",
              "    <tr>\n",
              "      <th>...</th>\n",
              "      <td>...</td>\n",
              "      <td>...</td>\n",
              "    </tr>\n",
              "    <tr>\n",
              "      <th>96</th>\n",
              "      <td>8.510529</td>\n",
              "      <td>[3, False, False, False, False, False, False, ...</td>\n",
              "    </tr>\n",
              "    <tr>\n",
              "      <th>97</th>\n",
              "      <td>8.510529</td>\n",
              "      <td>[0, False, False, False, False, False, False, ...</td>\n",
              "    </tr>\n",
              "    <tr>\n",
              "      <th>98</th>\n",
              "      <td>8.510529</td>\n",
              "      <td>[3, False, False, False, False, False, False, ...</td>\n",
              "    </tr>\n",
              "    <tr>\n",
              "      <th>99</th>\n",
              "      <td>8.510529</td>\n",
              "      <td>[0, False, False, False, False, False, False, ...</td>\n",
              "    </tr>\n",
              "    <tr>\n",
              "      <th>100</th>\n",
              "      <td>8.510529</td>\n",
              "      <td>[0, False, False, False, False, False, False, ...</td>\n",
              "    </tr>\n",
              "  </tbody>\n",
              "</table>\n",
              "<p>101 rows × 2 columns</p>\n",
              "</div>"
            ],
            "text/plain": [
              "             0                                                  1\n",
              "0    12.447710  [3, False, False, False, False, False, False, ...\n",
              "1    12.459891  [3, False, False, False, False, False, False, ...\n",
              "2    12.459681  [0, False, False, False, False, False, False, ...\n",
              "3    11.469123  [0, False, False, False, True, False, False, F...\n",
              "4    10.510946  [3, False, False, False, False, False, False, ...\n",
              "..         ...                                                ...\n",
              "96    8.510529  [3, False, False, False, False, False, False, ...\n",
              "97    8.510529  [0, False, False, False, False, False, False, ...\n",
              "98    8.510529  [3, False, False, False, False, False, False, ...\n",
              "99    8.510529  [0, False, False, False, False, False, False, ...\n",
              "100   8.510529  [0, False, False, False, False, False, False, ...\n",
              "\n",
              "[101 rows x 2 columns]"
            ]
          },
          "metadata": {
            "tags": []
          },
          "execution_count": 26
        }
      ]
    },
    {
      "cell_type": "code",
      "metadata": {
        "id": "SHGiPdcZKUgq",
        "colab_type": "code",
        "colab": {
          "base_uri": "https://localhost:8080/",
          "height": 436
        },
        "outputId": "96eb6ab9-f031-4ab5-c95d-42218c674e3b"
      },
      "source": [
        "print('--------------- MELHORES INDIVIDUOS --------------- ')\n",
        "pd.DataFrame(survives,columns=['Acurácia','Modelo'])"
      ],
      "execution_count": 27,
      "outputs": [
        {
          "output_type": "stream",
          "text": [
            "--------------- MELHORES INDIVIDUOS --------------- \n"
          ],
          "name": "stdout"
        },
        {
          "output_type": "execute_result",
          "data": {
            "text/html": [
              "<div>\n",
              "<style scoped>\n",
              "    .dataframe tbody tr th:only-of-type {\n",
              "        vertical-align: middle;\n",
              "    }\n",
              "\n",
              "    .dataframe tbody tr th {\n",
              "        vertical-align: top;\n",
              "    }\n",
              "\n",
              "    .dataframe thead th {\n",
              "        text-align: right;\n",
              "    }\n",
              "</style>\n",
              "<table border=\"1\" class=\"dataframe\">\n",
              "  <thead>\n",
              "    <tr style=\"text-align: right;\">\n",
              "      <th></th>\n",
              "      <th>Acurácia</th>\n",
              "      <th>Modelo</th>\n",
              "    </tr>\n",
              "  </thead>\n",
              "  <tbody>\n",
              "    <tr>\n",
              "      <th>0</th>\n",
              "      <td>8.510529</td>\n",
              "      <td>[0, False, False, False, False, False, False, ...</td>\n",
              "    </tr>\n",
              "    <tr>\n",
              "      <th>1</th>\n",
              "      <td>8.510529</td>\n",
              "      <td>[0, False, False, False, False, False, False, ...</td>\n",
              "    </tr>\n",
              "    <tr>\n",
              "      <th>2</th>\n",
              "      <td>8.510529</td>\n",
              "      <td>[0, False, False, False, False, False, False, ...</td>\n",
              "    </tr>\n",
              "    <tr>\n",
              "      <th>3</th>\n",
              "      <td>9.513031</td>\n",
              "      <td>[0, False, False, False, False, False, False, ...</td>\n",
              "    </tr>\n",
              "    <tr>\n",
              "      <th>4</th>\n",
              "      <td>8.510529</td>\n",
              "      <td>[0, False, False, False, False, False, False, ...</td>\n",
              "    </tr>\n",
              "    <tr>\n",
              "      <th>...</th>\n",
              "      <td>...</td>\n",
              "      <td>...</td>\n",
              "    </tr>\n",
              "    <tr>\n",
              "      <th>95</th>\n",
              "      <td>8.510529</td>\n",
              "      <td>[0, False, False, False, False, False, False, ...</td>\n",
              "    </tr>\n",
              "    <tr>\n",
              "      <th>96</th>\n",
              "      <td>8.510529</td>\n",
              "      <td>[0, False, False, False, False, False, False, ...</td>\n",
              "    </tr>\n",
              "    <tr>\n",
              "      <th>97</th>\n",
              "      <td>8.510529</td>\n",
              "      <td>[0, False, False, False, False, False, False, ...</td>\n",
              "    </tr>\n",
              "    <tr>\n",
              "      <th>98</th>\n",
              "      <td>8.510529</td>\n",
              "      <td>[0, False, False, False, False, False, False, ...</td>\n",
              "    </tr>\n",
              "    <tr>\n",
              "      <th>99</th>\n",
              "      <td>8.510529</td>\n",
              "      <td>[0, False, False, False, False, False, False, ...</td>\n",
              "    </tr>\n",
              "  </tbody>\n",
              "</table>\n",
              "<p>100 rows × 2 columns</p>\n",
              "</div>"
            ],
            "text/plain": [
              "    Acurácia                                             Modelo\n",
              "0   8.510529  [0, False, False, False, False, False, False, ...\n",
              "1   8.510529  [0, False, False, False, False, False, False, ...\n",
              "2   8.510529  [0, False, False, False, False, False, False, ...\n",
              "3   9.513031  [0, False, False, False, False, False, False, ...\n",
              "4   8.510529  [0, False, False, False, False, False, False, ...\n",
              "..       ...                                                ...\n",
              "95  8.510529  [0, False, False, False, False, False, False, ...\n",
              "96  8.510529  [0, False, False, False, False, False, False, ...\n",
              "97  8.510529  [0, False, False, False, False, False, False, ...\n",
              "98  8.510529  [0, False, False, False, False, False, False, ...\n",
              "99  8.510529  [0, False, False, False, False, False, False, ...\n",
              "\n",
              "[100 rows x 2 columns]"
            ]
          },
          "metadata": {
            "tags": []
          },
          "execution_count": 27
        }
      ]
    },
    {
      "cell_type": "code",
      "metadata": {
        "id": "bVSOm-jzNa-H",
        "colab_type": "code",
        "colab": {
          "base_uri": "https://localhost:8080/",
          "height": 85
        },
        "outputId": "d3c2e350-c344-4cdd-c390-a38282751a24"
      },
      "source": [
        "results = evaluation(survives,models,x_train,x_test,y_train,y_test) "
      ],
      "execution_count": 30,
      "outputs": [
        {
          "output_type": "stream",
          "text": [
            "--------------- RESULTADOS --------------- \n",
            "Melhor individuo: [0, False, False, False, False, False, False, False, False, False, False, True, False, False, False, False, False, False] \n",
            "Fitness: 8.510529112672035 \n",
            "Acurácia: 0.8591678348513208\n"
          ],
          "name": "stdout"
        }
      ]
    },
    {
      "cell_type": "code",
      "metadata": {
        "id": "RVrUAI7hQBE7",
        "colab_type": "code",
        "colab": {}
      },
      "source": [
        "#export population\n",
        "with open(\"/content/drive/My Drive/Data Files/results.txt\", \"wb\") as fp: \n",
        "  pickle.dump(genetic_alg, fp)"
      ],
      "execution_count": 32,
      "outputs": []
    }
  ]
}