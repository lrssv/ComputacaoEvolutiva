{
  "nbformat": 4,
  "nbformat_minor": 0,
  "metadata": {
    "colab": {
      "name": "Main.ipynb",
      "provenance": [],
      "mount_file_id": "1Kb4yh0_aygQkCaeVCGU34xRg-1yKAGjf",
      "authorship_tag": "ABX9TyOOoFbu3KGFFNC7V+lQmrY/",
      "include_colab_link": true
    },
    "kernelspec": {
      "name": "python3",
      "display_name": "Python 3"
    }
  },
  "cells": [
    {
      "cell_type": "markdown",
      "metadata": {
        "id": "view-in-github",
        "colab_type": "text"
      },
      "source": [
        "<a href=\"https://colab.research.google.com/github/lrssv/ComputacaoEvolutiva/blob/master/Main.ipynb\" target=\"_parent\"><img src=\"https://colab.research.google.com/assets/colab-badge.svg\" alt=\"Open In Colab\"/></a>"
      ]
    },
    {
      "cell_type": "markdown",
      "metadata": {
        "id": "5LW9X4r360xs",
        "colab_type": "text"
      },
      "source": [
        "# Model for classifying the victim's gender using an evolutionary algorithm to select features.\n",
        "\n",
        "* ## Main"
      ]
    },
    {
      "cell_type": "markdown",
      "metadata": {
        "id": "DNo-iUjvV342",
        "colab_type": "text"
      },
      "source": [
        "## Imports"
      ]
    },
    {
      "cell_type": "code",
      "metadata": {
        "id": "-rWPHrCI69Bi",
        "colab_type": "code",
        "colab": {}
      },
      "source": [
        "import pandas as pd\n",
        "import numpy as np\n",
        "import random\n",
        "from sklearn.tree import DecisionTreeClassifier\n",
        "from sklearn.ensemble import RandomForestClassifier\n",
        "from sklearn.model_selection import train_test_split\n",
        "from sklearn.metrics import accuracy_score\n",
        "from pandas import read_csv "
      ],
      "execution_count": 3,
      "outputs": []
    },
    {
      "cell_type": "markdown",
      "metadata": {
        "id": "xQJUt2Az7a8j",
        "colab_type": "text"
      },
      "source": [
        "## Scripts"
      ]
    },
    {
      "cell_type": "markdown",
      "metadata": {
        "id": "CufvkPo-CdbH",
        "colab_type": "text"
      },
      "source": [
        "### Original Dataset"
      ]
    },
    {
      "cell_type": "code",
      "metadata": {
        "id": "m3EGQF_Q7Ps7",
        "colab_type": "code",
        "colab": {}
      },
      "source": [
        "def database(url):\n",
        "  df_encoded = pd.read_csv(url)\n",
        "  df_encoded = df_encoded.drop(columns=['Unnamed: 0'])\n",
        "\n",
        "  print(\"--------------------------------- Dataset ---------------------------------\")\n",
        "  print(pd.DataFrame(df_encoded))\n",
        "\n",
        "  return df_encoded"
      ],
      "execution_count": 10,
      "outputs": []
    },
    {
      "cell_type": "markdown",
      "metadata": {
        "id": "tT5wDx4H7RTj",
        "colab_type": "text"
      },
      "source": [
        "### Initial Population"
      ]
    },
    {
      "cell_type": "code",
      "metadata": {
        "id": "wt5X9V0o7W-j",
        "colab_type": "code",
        "colab": {}
      },
      "source": [
        "def population(ind_size,pop_size,models):\n",
        "  ind = []\n",
        "  pop = []\n",
        "\n",
        "  for p in range(pop_size):\n",
        "    ind = [random.choice([True,False]) for i in range(ind_size)]\n",
        "    ind[0] = random.choice(range(0,len(models)+1))\n",
        "    pop.append(ind)\n",
        "    ind = []\n",
        "\n",
        "  print(\"-------------------------- Initial Population --------------------------\")\n",
        "  print(pd.DataFrame(pop, columns=['model', 'feature 1', 'feature 2', 'feature 3','feature 4',\n",
        "                                   'feature 5', 'feature 6', 'feature 7','feature 8', 'feature 9',\n",
        "                                   'feature 10', 'feature 11','feature 12', 'feature 13', 'feature 14',\n",
        "                                   'feature 15','feature 16', 'feature 17']))\n",
        "  return pop"
      ],
      "execution_count": 24,
      "outputs": []
    },
    {
      "cell_type": "markdown",
      "metadata": {
        "id": "9XQi7ML58LaT",
        "colab_type": "text"
      },
      "source": [
        "### Fitness"
      ]
    },
    {
      "cell_type": "code",
      "metadata": {
        "id": "jnfi8htT8MxD",
        "colab_type": "code",
        "colab": {}
      },
      "source": [
        "def fitness(population,df,models):\n",
        "  result = []\n",
        "\n",
        "  x = df[df.columns.difference(['Victim Sex'])]\n",
        "  y = df[['Victim Sex']]\n",
        "  \n",
        "  x_train, x_test, y_train, y_test = np.array(train_test_split(x, y, test_size=0.2, stratify=y, random_state=42))\n",
        "\n",
        "  x_train = np.array(x_train)\n",
        "  x_test = np.array(x_test)\n",
        "  y_train = np.ravel(y_train)\n",
        "  y_test = np.array(y_test)\n",
        "\n",
        "  for p in population:\n",
        "    model = models[p[1]]\n",
        "    ind = [i==1 for i in p[1:]] \n",
        "    model.fit(x_train[:,ind],y_train)\n",
        "    y_pred = model.predict(x_test[:,ind])\n",
        "    accuracy = accuracy_score(y_test,y_pred)\n",
        "\n",
        "    result.append([p,accuracy])\n",
        "  \n",
        "  print(\"----------------------- Initial Population -----------------------\")\n",
        "  print(pd.DataFrame(result, columns=['individual', 'fitness']))\n",
        "  return result"
      ],
      "execution_count": 30,
      "outputs": []
    },
    {
      "cell_type": "markdown",
      "metadata": {
        "id": "Y88gYCWxQb_I",
        "colab_type": "text"
      },
      "source": [
        "### Tournament Selection"
      ]
    },
    {
      "cell_type": "code",
      "metadata": {
        "id": "i_Z3jvPtQbMk",
        "colab_type": "code",
        "colab": {}
      },
      "source": [
        "def tour(fitness):\n",
        "  indiv_current = 1\n",
        "  new_pop = []\n",
        "\n",
        "  indiv = [i[0] for i in fitness]\n",
        "  fit = [i[1] for i in fitness]\n",
        "\n",
        "  while indiv_current <= 50:\n",
        "    x = random.choice(range(len(fitness)))\n",
        "    y = random.choice(range(len(fitness)))\n",
        "    \n",
        "    if fit[x] > fit[y]:\n",
        "      new_pop.append(indiv[x])\n",
        "    else:\n",
        "      new_pop.append(indiv[y])\n",
        "    \n",
        "    indiv_current += 1\n",
        "\n",
        "  return new_pop"
      ],
      "execution_count": null,
      "outputs": []
    },
    {
      "cell_type": "markdown",
      "metadata": {
        "id": "KqY3PNuH7-EE",
        "colab_type": "text"
      },
      "source": [
        "### Mutation and Crossover"
      ]
    },
    {
      "cell_type": "code",
      "metadata": {
        "id": "WTh6Kvwg8Akt",
        "colab_type": "code",
        "colab": {}
      },
      "source": [
        "def mutation_and_crossover(population):\n",
        "  children = []\n",
        "  prop_mutation = 0.1 #prob of mutation\n",
        "  rand = random.uniform(0,1) #random value to compare with prob_mutation\n",
        "\n",
        "\n",
        "  for p in population:\n",
        "    parent1 = random.choice(population) \n",
        "    parent2 = random.choice(population)\n",
        "    n = random.choice(range(1,len(parent1))) #gene that gona be mutaded\n",
        "    \n",
        "    if rand < prop_mutation:\n",
        "      #mutation\n",
        "      parent1[0] = random.choice(range(4)) #mute the model\n",
        "      \n",
        "      if parent1[n] == True:\n",
        "        parent1[n] = False \n",
        "        child = parent1\n",
        "      else:\n",
        "        parent1[n] = True \n",
        "        child = parent1\n",
        "      \n",
        "      children.append(child)\n",
        "    \n",
        "    else:\n",
        "      #crossover\n",
        "      chromosome_length = len(parent1) #length of chromosome\n",
        "      crossover_point = random.randint(1,chromosome_length-1) #point of crossover\n",
        "      child1 = parent1[1:crossover_point] + parent2[crossover_point:]\n",
        "      child2 = parent2[1:crossover_point] + parent1[crossover_point:]\n",
        "\n",
        "      child1.insert(0,parent2[0]) #model+child1\n",
        "      child2.insert(0,parent1[0]) #model+child2\n",
        "  \n",
        "      children.append([child1,child2])\n",
        "  \n",
        "  return children      "
      ],
      "execution_count": null,
      "outputs": []
    },
    {
      "cell_type": "markdown",
      "metadata": {
        "id": "cxXI4iVw7f1c",
        "colab_type": "text"
      },
      "source": [
        "##Setups"
      ]
    },
    {
      "cell_type": "code",
      "metadata": {
        "id": "vSC_Sit17kq7",
        "colab_type": "code",
        "colab": {}
      },
      "source": [
        "# All models options\n",
        "models = [DecisionTreeClassifier(max_depth=10),DecisionTreeClassifier(max_depth=3),DecisionTreeClassifier(max_depth=14),\n",
        "          RandomForestClassifier(max_depth=10)]"
      ],
      "execution_count": 14,
      "outputs": []
    },
    {
      "cell_type": "markdown",
      "metadata": {
        "id": "jDs-V7e7VKu5",
        "colab_type": "text"
      },
      "source": [
        "### Initial Conditions "
      ]
    },
    {
      "cell_type": "code",
      "metadata": {
        "id": "xLqA-CyB7Zj6",
        "colab_type": "code",
        "colab": {
          "base_uri": "https://localhost:8080/",
          "height": 527
        },
        "outputId": "24a74c7f-61cb-4d32-b5d1-c0dde7989cd2"
      },
      "source": [
        "# Original Data\n",
        "df_encoded = database('/content/drive/My Drive/Data Files/df_model_victim_encoded')\n",
        "\n",
        "# Initial population with 100 individuals\n",
        "indiv_size = 18\n",
        "population_size = 100\n",
        "initial_population = population(indiv_size,population_size,models)"
      ],
      "execution_count": 33,
      "outputs": [
        {
          "output_type": "stream",
          "text": [
            "--------------------------------- Dataset ---------------------------------\n",
            "            City  Year     Month  ...    Weapon  Victim Count  Perpetrator Count\n",
            "0       1.279586  1980  1.226100  ...  1.370346             0                  0\n",
            "1       1.279586  1980  1.230114  ...  1.683970             0                  0\n",
            "2       1.279586  1980  1.230114  ...  1.365691             0                  0\n",
            "3       1.279586  1980  1.230194  ...  1.683970             0                  0\n",
            "4       1.279586  1980  1.230194  ...  1.365691             0                  1\n",
            "...          ...   ...       ...  ...       ...           ...                ...\n",
            "638449  1.403846  2014  1.226100  ...  1.153664             0                  0\n",
            "638450  1.393939  2014  1.219243  ...  1.153664             0                  0\n",
            "638451  1.393939  2014  1.220578  ...  1.573841             0                  0\n",
            "638452  1.277778  2014  1.223096  ...  1.267381             0                  1\n",
            "638453  1.355263  2014  1.220578  ...  1.370346             0                  1\n",
            "\n",
            "[638454 rows x 18 columns]\n",
            "-------------------------- Initial Population --------------------------\n",
            "    model  feature 1  feature 2  ...  feature 15  feature 16  feature 17\n",
            "0       2      False       True  ...       False        True        True\n",
            "1       1       True       True  ...       False       False       False\n",
            "2       4       True      False  ...       False        True        True\n",
            "3       3       True       True  ...        True       False       False\n",
            "4       3      False       True  ...        True        True       False\n",
            "..    ...        ...        ...  ...         ...         ...         ...\n",
            "95      3      False      False  ...       False        True        True\n",
            "96      3       True      False  ...        True        True        True\n",
            "97      4      False      False  ...        True        True        True\n",
            "98      2       True      False  ...        True       False        True\n",
            "99      0      False      False  ...        True       False        True\n",
            "\n",
            "[100 rows x 18 columns]\n"
          ],
          "name": "stdout"
        }
      ]
    },
    {
      "cell_type": "markdown",
      "metadata": {
        "id": "wShetnDnVWml",
        "colab_type": "text"
      },
      "source": [
        "### Loop"
      ]
    },
    {
      "cell_type": "code",
      "metadata": {
        "id": "aWZjIyIX8QM7",
        "colab_type": "code",
        "colab": {
          "base_uri": "https://localhost:8080/",
          "height": 272
        },
        "outputId": "97bf52f7-648b-4f6f-d7fc-b4685b872e07"
      },
      "source": [
        "#Fitness \n",
        "initial_fitness = fitness(initial_population,df_encoded,models)"
      ],
      "execution_count": 31,
      "outputs": [
        {
          "output_type": "stream",
          "text": [
            "----------------------- Initial Population -----------------------\n",
            "                                           individual   fitness\n",
            "0   [3, True, False, False, True, False, False, Fa...  0.780454\n",
            "1   [1, True, True, False, True, False, False, Tru...  0.859168\n",
            "2   [2, False, False, True, True, True, False, Tru...  0.773437\n",
            "3   [1, True, False, True, True, False, False, Fal...  0.859168\n",
            "4   [0, False, True, False, True, False, True, Fal...  0.864744\n",
            "..                                                ...       ...\n",
            "95  [0, True, True, True, True, False, False, Fals...  0.859168\n",
            "96  [2, False, True, False, True, True, True, True...  0.858580\n",
            "97  [4, True, True, False, True, False, True, Fals...  0.859168\n",
            "98  [1, False, True, False, False, True, False, Fa...  0.779139\n",
            "99  [3, True, True, True, False, True, False, Fals...  0.773986\n",
            "\n",
            "[100 rows x 2 columns]\n"
          ],
          "name": "stdout"
        }
      ]
    },
    {
      "cell_type": "code",
      "metadata": {
        "id": "eIYRWj3R8ENX",
        "colab_type": "code",
        "colab": {}
      },
      "source": [
        "run = mutation_and_crossover(population)"
      ],
      "execution_count": null,
      "outputs": []
    }
  ]
}