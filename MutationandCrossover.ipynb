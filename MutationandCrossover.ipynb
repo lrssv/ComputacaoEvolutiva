{
  "nbformat": 4,
  "nbformat_minor": 0,
  "metadata": {
    "colab": {
      "name": "MutationandCrossover.ipynb",
      "provenance": [],
      "mount_file_id": "1MVPxas3P3bZK45t5YfAgFel5UH6TWZZi",
      "authorship_tag": "ABX9TyMd93bR3BLE2Gvom2ug2b48",
      "include_colab_link": true
    },
    "kernelspec": {
      "name": "python3",
      "display_name": "Python 3"
    }
  },
  "cells": [
    {
      "cell_type": "markdown",
      "metadata": {
        "id": "view-in-github",
        "colab_type": "text"
      },
      "source": [
        "<a href=\"https://colab.research.google.com/github/lrssv/ComputacaoEvolutiva/blob/master/MutationandCrossover.ipynb\" target=\"_parent\"><img src=\"https://colab.research.google.com/assets/colab-badge.svg\" alt=\"Open In Colab\"/></a>"
      ]
    },
    {
      "cell_type": "markdown",
      "metadata": {
        "id": "IvIZnYXl9LtO",
        "colab_type": "text"
      },
      "source": [
        "# Model for classifying the victim's gender using an evolutionary algorithm to select features.\n",
        "\n",
        "* ## Mutation and Crossover"
      ]
    },
    {
      "cell_type": "markdown",
      "metadata": {
        "id": "q3jBMQP19Xh9",
        "colab_type": "text"
      },
      "source": [
        "## Imports"
      ]
    },
    {
      "cell_type": "code",
      "metadata": {
        "id": "nUjpLP6W4lbG",
        "colab_type": "code",
        "colab": {}
      },
      "source": [
        "import pickle\n",
        "import pandas as pd\n",
        "import numpy as np\n",
        "import random"
      ],
      "execution_count": 1,
      "outputs": []
    },
    {
      "cell_type": "code",
      "metadata": {
        "id": "n1yH-_ep4yue",
        "colab_type": "code",
        "colab": {}
      },
      "source": [
        "with open('/content/drive/My Drive/Data Files/initial_population.txt', \"rb\") as fp:   \n",
        "  population = pickle.load(fp)"
      ],
      "execution_count": 2,
      "outputs": []
    },
    {
      "cell_type": "code",
      "metadata": {
        "id": "66cnL-GW22-v",
        "colab_type": "code",
        "colab": {}
      },
      "source": [
        "def mutation(pm,pc,population):\n",
        "  prop_mutation = pm #probabilidade de mutação\n",
        "  prop_cross = 1 - pm #probabilidade de crossover\n",
        "  rand = random.uniform(0,1) #valor aleatório a ser comparado com prob_mutation\n",
        "\n",
        "  pai1 = random.choice(population) \n",
        "  pai2 = random.choice(population)\n",
        "\n",
        "  n = random.choice(range(len(pai1))) #gene que vai ser mutado\n",
        "  \n",
        "  for p in population:\n",
        "    if rand < prop_mutation:\n",
        "      #mutação\n",
        "      pai1[0] = random.choice(range(4)) #muta o modelo\n",
        "      pai1 = pai1[1:]\n",
        "      if pai1[n] == True:\n",
        "        pai1[n] = False \n",
        "        filho = pai1\n",
        "      else:\n",
        "        pai1[n] = True \n",
        "        filho = pai1\n",
        "    else:\n",
        "      #crossover\n",
        "      size = len(p.vertices)\n",
        "\n"
      ],
      "execution_count": 3,
      "outputs": []
    },
    {
      "cell_type": "code",
      "metadata": {
        "id": "L4TNCW8RA8b8",
        "colab_type": "code",
        "colab": {}
      },
      "source": [
        "pai1 = random.choice(population)"
      ],
      "execution_count": 20,
      "outputs": []
    },
    {
      "cell_type": "code",
      "metadata": {
        "id": "bjNEMkdCiKCG",
        "colab_type": "code",
        "colab": {}
      },
      "source": [
        "n = random.choice(range(1,(len(pai1))))"
      ],
      "execution_count": 23,
      "outputs": []
    },
    {
      "cell_type": "code",
      "metadata": {
        "id": "u0wmzs9QhVYY",
        "colab_type": "code",
        "colab": {
          "base_uri": "https://localhost:8080/",
          "height": 197
        },
        "outputId": "c7df2f3f-06a7-4961-bcd6-526e06abddd8"
      },
      "source": [
        "for p in population:\n",
        "  size = len(p.vertices)\n",
        "  "
      ],
      "execution_count": 25,
      "outputs": [
        {
          "output_type": "error",
          "ename": "AttributeError",
          "evalue": "ignored",
          "traceback": [
            "\u001b[0;31m---------------------------------------------------------------------------\u001b[0m",
            "\u001b[0;31mAttributeError\u001b[0m                            Traceback (most recent call last)",
            "\u001b[0;32m<ipython-input-25-dc0cb17b5f3f>\u001b[0m in \u001b[0;36m<module>\u001b[0;34m()\u001b[0m\n\u001b[1;32m      1\u001b[0m \u001b[0;32mfor\u001b[0m \u001b[0mp\u001b[0m \u001b[0;32min\u001b[0m \u001b[0mpopulation\u001b[0m\u001b[0;34m:\u001b[0m\u001b[0;34m\u001b[0m\u001b[0;34m\u001b[0m\u001b[0m\n\u001b[0;32m----> 2\u001b[0;31m   \u001b[0msize\u001b[0m \u001b[0;34m=\u001b[0m \u001b[0mlen\u001b[0m\u001b[0;34m(\u001b[0m\u001b[0mp\u001b[0m\u001b[0;34m.\u001b[0m\u001b[0mvertices\u001b[0m\u001b[0;34m)\u001b[0m\u001b[0;34m\u001b[0m\u001b[0;34m\u001b[0m\u001b[0m\n\u001b[0m\u001b[1;32m      3\u001b[0m \u001b[0;34m\u001b[0m\u001b[0m\n",
            "\u001b[0;31mAttributeError\u001b[0m: 'list' object has no attribute 'vertices'"
          ]
        }
      ]
    },
    {
      "cell_type": "code",
      "metadata": {
        "id": "i2T3qc399Odv",
        "colab_type": "code",
        "colab": {}
      },
      "source": [
        "rand = random.uniform(0,1)\n",
        "prop_mutation = 0.1\n",
        "n = random.choice(range(len(pai1)-1))\n",
        "\n",
        "#if rand < prop_mutation:\n",
        "pai1[0] = random.choice(range(4))\n",
        "pai1 = pai1[1:]\n",
        "\n",
        "if pai1[0] == True:\n",
        "  pai1[0] = False\n",
        "  filho = pai1\n",
        "else:\n",
        "  size = len(pai1.vertices)\n",
        "  print(size)"
      ],
      "execution_count": null,
      "outputs": []
    },
    {
      "cell_type": "code",
      "metadata": {
        "id": "wGdMaycCA6hb",
        "colab_type": "code",
        "colab": {}
      },
      "source": [
        ""
      ],
      "execution_count": null,
      "outputs": []
    }
  ]
}