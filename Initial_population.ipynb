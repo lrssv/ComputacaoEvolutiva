{
  "nbformat": 4,
  "nbformat_minor": 0,
  "metadata": {
    "colab": {
      "name": "Initial_population.ipynb",
      "provenance": [],
      "collapsed_sections": [],
      "mount_file_id": "1nWIdOtfTP6LjjDATCKm1xlWVDBr6drvA",
      "authorship_tag": "ABX9TyMBYJloc9xKKWOFSoGuBFd6",
      "include_colab_link": true
    },
    "kernelspec": {
      "name": "python3",
      "display_name": "Python 3"
    }
  },
  "cells": [
    {
      "cell_type": "markdown",
      "metadata": {
        "id": "view-in-github",
        "colab_type": "text"
      },
      "source": [
        "<a href=\"https://colab.research.google.com/github/lrssv/ComputacaoEvolutiva/blob/master/Initial_population.ipynb\" target=\"_parent\"><img src=\"https://colab.research.google.com/assets/colab-badge.svg\" alt=\"Open In Colab\"/></a>"
      ]
    },
    {
      "cell_type": "markdown",
      "metadata": {
        "id": "fucXjOc54GQl",
        "colab_type": "text"
      },
      "source": [
        "# Model for classifying the victim's gender using an evolutionary algorithm to select features.\n",
        "\n",
        "## - Initial Population\n",
        "\n",
        "This code has all steps for the initial population. Where:\n",
        "\n",
        "* Imports: the necessary libraries\n",
        "* Scripts: imports the encoded dataset and create the initial population with 100 individuals, where each individual has 18 features, the first is the model and all others correspond for the features for the dataset\n",
        "* Setups: results and export."
      ]
    },
    {
      "cell_type": "markdown",
      "metadata": {
        "id": "he1hy27f4Ho9",
        "colab_type": "text"
      },
      "source": [
        "##Imports"
      ]
    },
    {
      "cell_type": "code",
      "metadata": {
        "id": "g1Xh4RN-x9UK",
        "colab_type": "code",
        "colab": {}
      },
      "source": [
        "import pandas as pd\n",
        "import numpy as np\n",
        "import random\n",
        "import pickle\n",
        "from sklearn.tree import DecisionTreeClassifier\n",
        "from sklearn.ensemble import RandomForestClassifier\n",
        "from pandas import read_csv "
      ],
      "execution_count": 1,
      "outputs": []
    },
    {
      "cell_type": "markdown",
      "metadata": {
        "id": "2i-vsE4K4Ntd",
        "colab_type": "text"
      },
      "source": [
        "## Scripts"
      ]
    },
    {
      "cell_type": "code",
      "metadata": {
        "id": "zmD-sU6Kx-cZ",
        "colab_type": "code",
        "colab": {}
      },
      "source": [
        "def database(url):\n",
        "  df_encoded = pd.read_csv(url)\n",
        "  df_encoded = df_encoded.drop(columns=['Unnamed: 0'])\n",
        "\n",
        "  return df_encoded"
      ],
      "execution_count": 2,
      "outputs": []
    },
    {
      "cell_type": "code",
      "metadata": {
        "id": "5SB578lmr7z-",
        "colab_type": "code",
        "colab": {}
      },
      "source": [
        "def population(ind_size,pop_size,models):\n",
        "  ind = []\n",
        "  pop = []\n",
        "\n",
        "  for p in range(pop_size):\n",
        "    ind = [random.choice([True,False]) for i in range(ind_size)]\n",
        "    ind[0] = random.choice(range(0,len(models)+1))\n",
        "    pop.append(ind)\n",
        "    ind = []\n",
        "\n",
        "  print(\"-------------------------- Initial Population --------------------------\")\n",
        "  print(pd.DataFrame(pop, columns=['model', 'feature 1', 'feature 2', 'feature 3','feature 4',\n",
        "                                   'feature 5', 'feature 6', 'feature 7','feature 8', 'feature 9',\n",
        "                                   'feature 10', 'feature 11','feature 12', 'feature 13', 'feature 14',\n",
        "                                   'feature 15','feature 16', 'feature 17']))\n",
        "  return pop"
      ],
      "execution_count": 3,
      "outputs": []
    },
    {
      "cell_type": "markdown",
      "metadata": {
        "id": "yucaNiSG1p_H",
        "colab_type": "text"
      },
      "source": [
        "## Instances"
      ]
    },
    {
      "cell_type": "code",
      "metadata": {
        "id": "AJNvjkl01nA_",
        "colab_type": "code",
        "colab": {}
      },
      "source": [
        "df_encoded = database('/content/drive/My Drive/Data Files/df_model_per_encoded')"
      ],
      "execution_count": 8,
      "outputs": []
    },
    {
      "cell_type": "code",
      "metadata": {
        "id": "LXYz4i2psE55",
        "colab_type": "code",
        "colab": {}
      },
      "source": [
        "models = [DecisionTreeClassifier(max_depth=10),DecisionTreeClassifier(max_depth=3),DecisionTreeClassifier(max_depth=14),\n",
        "          RandomForestClassifier(max_depth=10),RandomForestClassifier(max_depth=14)]"
      ],
      "execution_count": 9,
      "outputs": []
    },
    {
      "cell_type": "code",
      "metadata": {
        "id": "voR2F6easGVh",
        "colab_type": "code",
        "colab": {
          "base_uri": "https://localhost:8080/",
          "height": 272
        },
        "outputId": "1e36206b-9143-4452-8a86-a490eaa743b6"
      },
      "source": [
        "initial_population = population(18,100,models)"
      ],
      "execution_count": 10,
      "outputs": [
        {
          "output_type": "stream",
          "text": [
            "-------------------------- Initial Population --------------------------\n",
            "    model  feature 1  feature 2  ...  feature 15  feature 16  feature 17\n",
            "0       3      False      False  ...       False        True        True\n",
            "1       0      False      False  ...       False        True       False\n",
            "2       0       True       True  ...        True        True        True\n",
            "3       1       True       True  ...        True        True        True\n",
            "4       0       True      False  ...        True        True       False\n",
            "..    ...        ...        ...  ...         ...         ...         ...\n",
            "95      3       True      False  ...        True       False        True\n",
            "96      0       True      False  ...        True       False       False\n",
            "97      1       True      False  ...       False        True        True\n",
            "98      1       True      False  ...        True        True       False\n",
            "99      3       True      False  ...       False       False       False\n",
            "\n",
            "[100 rows x 18 columns]\n"
          ],
          "name": "stdout"
        }
      ]
    },
    {
      "cell_type": "code",
      "metadata": {
        "id": "GNJyLmti1OD0",
        "colab_type": "code",
        "colab": {}
      },
      "source": [
        "#export population\n",
        "with open(\"/content/drive/My Drive/Data Files/initial_population.txt\", \"wb\") as fp: \n",
        "  pickle.dump(initial_population, fp)"
      ],
      "execution_count": 7,
      "outputs": []
    }
  ]
}